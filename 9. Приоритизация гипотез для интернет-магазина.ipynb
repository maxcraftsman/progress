{
 "cells": [
  {
   "cell_type": "markdown",
   "metadata": {},
   "source": [
    "## Приоритизация гипотез для интернет-магазина\n",
    "В исследовании проанализированы данные подготовленные вместе с отделом маркетинга:\n",
    "\n",
    "    1.Гипотезы: /datasets/hypothesis.csv\n",
    "    2.Заказы: /datasets/orders_log.csv\n",
    "    3.Визиты пользователей: /datasets/visitors.csv\n",
    "    \n",
    "Результатом исследования является выводы анализа А/В-теста и расставление приоритетов гипотез для увеличения выручки.\n",
    "\n",
    "## Содержание анализа A/B-теста\n",
    "_____\n",
    "\n",
    "#### Подготовка:\n",
    "* <a href=\"#step_1\">1. Изучение файлов с данными, получение общей информации, загрузка библиотек.</a>\n",
    "* <a href=\"#step_2\">2. Предобработка данных.</a>\n",
    "\n",
    "#### Приоритизация гипотез:\n",
    "* <a id=\"fix_9\" href=\"#step_3\">3. Приоритизация ICE и RICE.</a>\n",
    "\n",
    "#### Бизнес-метрики:\n",
    "* * <a href=\"#step_41\">4.1 Кумулятивная выручка по группам.</a>\n",
    "* * <a href=\"#step_42\">4.2 Кумулятивный средний чек по группам.</a>\n",
    "* * <a href=\"#step_43\">4.3 Относительное изменение кумулятивного среднего чека группы B к группе A.</a>\n",
    "* * <a href=\"#step_44\">4.4 Кумулятивная конверсия по группам.</a>\n",
    "* * <a href=\"#step_45\">4.5 Относительное изменение кумулятивной конверсии группы B к группе A.</a>\n",
    "\n",
    "#### Точечные графики:\n",
    "* * <a href=\"#step_56\">5.1 Точечный график количества заказов по пользователям.</a>\n",
    "* * <a href=\"#step_57\">5.2 Перцентили количества заказов на пользователя.</a>\n",
    "* * <a href=\"#step_58\">5.3 Точечный график стоимостей заказов.</a>\n",
    "* * <a href=\"#step_59\">5.4 Перцентили стоимости заказов.</a>\n",
    "\n",
    "#### Проверка гипотез:\n",
    "* * <a href=\"#step_61\">6.1 Статистическая значимость различий в конверсии между группами.</a>\n",
    "* * <a href=\"#step_62\">6.2 Статистическая значимость различий в среднем чеке заказа между группами.</a>\n",
    "* * <a href=\"#step_63\">6.3 Статистическая значимость различий в конверсии между «очищенными» группами.</a>\n",
    "* * <a href=\"#step_64\">6.4 Статистическая значимость различий в среднем чеке заказа между «очищенными» группами</a>\n",
    "\n",
    "#### Итог:\n",
    "* <a href=\"#step_7\">Общий вывод</a>\n"
   ]
  },
  {
   "cell_type": "markdown",
   "metadata": {},
   "source": [
    "<a id='step_11'></a>\n",
    "### 1.1 Изучение файлов с данными, получение общей информации, загрузка библиотек:"
   ]
  },
  {
   "cell_type": "code",
   "execution_count": 1,
   "metadata": {
    "scrolled": false
   },
   "outputs": [
    {
     "data": {
      "text/html": [
       "<style  type=\"text/css\" >\n",
       "</style><table id=\"T_f4458a7c_3565_11eb_bad6_02420a39db1e\" style='display:inline'><caption>Заказы</caption><thead>    <tr>        <th class=\"blank level0\" ></th>        <th class=\"col_heading level0 col0\" >transactionId</th>        <th class=\"col_heading level0 col1\" >visitorId</th>        <th class=\"col_heading level0 col2\" >date</th>        <th class=\"col_heading level0 col3\" >revenue</th>        <th class=\"col_heading level0 col4\" >group</th>    </tr></thead><tbody>\n",
       "                <tr>\n",
       "                        <th id=\"T_f4458a7c_3565_11eb_bad6_02420a39db1elevel0_row0\" class=\"row_heading level0 row0\" >0</th>\n",
       "                        <td id=\"T_f4458a7c_3565_11eb_bad6_02420a39db1erow0_col0\" class=\"data row0 col0\" >3667963787</td>\n",
       "                        <td id=\"T_f4458a7c_3565_11eb_bad6_02420a39db1erow0_col1\" class=\"data row0 col1\" >3312258926</td>\n",
       "                        <td id=\"T_f4458a7c_3565_11eb_bad6_02420a39db1erow0_col2\" class=\"data row0 col2\" >2019-08-15</td>\n",
       "                        <td id=\"T_f4458a7c_3565_11eb_bad6_02420a39db1erow0_col3\" class=\"data row0 col3\" >1650</td>\n",
       "                        <td id=\"T_f4458a7c_3565_11eb_bad6_02420a39db1erow0_col4\" class=\"data row0 col4\" >B</td>\n",
       "            </tr>\n",
       "            <tr>\n",
       "                        <th id=\"T_f4458a7c_3565_11eb_bad6_02420a39db1elevel0_row1\" class=\"row_heading level0 row1\" >1</th>\n",
       "                        <td id=\"T_f4458a7c_3565_11eb_bad6_02420a39db1erow1_col0\" class=\"data row1 col0\" >2804400009</td>\n",
       "                        <td id=\"T_f4458a7c_3565_11eb_bad6_02420a39db1erow1_col1\" class=\"data row1 col1\" >3642806036</td>\n",
       "                        <td id=\"T_f4458a7c_3565_11eb_bad6_02420a39db1erow1_col2\" class=\"data row1 col2\" >2019-08-15</td>\n",
       "                        <td id=\"T_f4458a7c_3565_11eb_bad6_02420a39db1erow1_col3\" class=\"data row1 col3\" >730</td>\n",
       "                        <td id=\"T_f4458a7c_3565_11eb_bad6_02420a39db1erow1_col4\" class=\"data row1 col4\" >B</td>\n",
       "            </tr>\n",
       "            <tr>\n",
       "                        <th id=\"T_f4458a7c_3565_11eb_bad6_02420a39db1elevel0_row2\" class=\"row_heading level0 row2\" >2</th>\n",
       "                        <td id=\"T_f4458a7c_3565_11eb_bad6_02420a39db1erow2_col0\" class=\"data row2 col0\" >2961555356</td>\n",
       "                        <td id=\"T_f4458a7c_3565_11eb_bad6_02420a39db1erow2_col1\" class=\"data row2 col1\" >4069496402</td>\n",
       "                        <td id=\"T_f4458a7c_3565_11eb_bad6_02420a39db1erow2_col2\" class=\"data row2 col2\" >2019-08-15</td>\n",
       "                        <td id=\"T_f4458a7c_3565_11eb_bad6_02420a39db1erow2_col3\" class=\"data row2 col3\" >400</td>\n",
       "                        <td id=\"T_f4458a7c_3565_11eb_bad6_02420a39db1erow2_col4\" class=\"data row2 col4\" >A</td>\n",
       "            </tr>\n",
       "            <tr>\n",
       "                        <th id=\"T_f4458a7c_3565_11eb_bad6_02420a39db1elevel0_row3\" class=\"row_heading level0 row3\" >3</th>\n",
       "                        <td id=\"T_f4458a7c_3565_11eb_bad6_02420a39db1erow3_col0\" class=\"data row3 col0\" >3797467345</td>\n",
       "                        <td id=\"T_f4458a7c_3565_11eb_bad6_02420a39db1erow3_col1\" class=\"data row3 col1\" >1196621759</td>\n",
       "                        <td id=\"T_f4458a7c_3565_11eb_bad6_02420a39db1erow3_col2\" class=\"data row3 col2\" >2019-08-15</td>\n",
       "                        <td id=\"T_f4458a7c_3565_11eb_bad6_02420a39db1erow3_col3\" class=\"data row3 col3\" >9759</td>\n",
       "                        <td id=\"T_f4458a7c_3565_11eb_bad6_02420a39db1erow3_col4\" class=\"data row3 col4\" >B</td>\n",
       "            </tr>\n",
       "            <tr>\n",
       "                        <th id=\"T_f4458a7c_3565_11eb_bad6_02420a39db1elevel0_row4\" class=\"row_heading level0 row4\" >4</th>\n",
       "                        <td id=\"T_f4458a7c_3565_11eb_bad6_02420a39db1erow4_col0\" class=\"data row4 col0\" >2282983706</td>\n",
       "                        <td id=\"T_f4458a7c_3565_11eb_bad6_02420a39db1erow4_col1\" class=\"data row4 col1\" >2322279887</td>\n",
       "                        <td id=\"T_f4458a7c_3565_11eb_bad6_02420a39db1erow4_col2\" class=\"data row4 col2\" >2019-08-15</td>\n",
       "                        <td id=\"T_f4458a7c_3565_11eb_bad6_02420a39db1erow4_col3\" class=\"data row4 col3\" >2308</td>\n",
       "                        <td id=\"T_f4458a7c_3565_11eb_bad6_02420a39db1erow4_col4\" class=\"data row4 col4\" >B</td>\n",
       "            </tr>\n",
       "    </tbody></table>   <style  type=\"text/css\" >\n",
       "</style><table id=\"T_f44619a6_3565_11eb_bad6_02420a39db1e\" style='display:inline'><caption>Визиты</caption><thead>    <tr>        <th class=\"blank level0\" ></th>        <th class=\"col_heading level0 col0\" >date</th>        <th class=\"col_heading level0 col1\" >group</th>        <th class=\"col_heading level0 col2\" >visitors</th>    </tr></thead><tbody>\n",
       "                <tr>\n",
       "                        <th id=\"T_f44619a6_3565_11eb_bad6_02420a39db1elevel0_row0\" class=\"row_heading level0 row0\" >0</th>\n",
       "                        <td id=\"T_f44619a6_3565_11eb_bad6_02420a39db1erow0_col0\" class=\"data row0 col0\" >2019-08-01</td>\n",
       "                        <td id=\"T_f44619a6_3565_11eb_bad6_02420a39db1erow0_col1\" class=\"data row0 col1\" >A</td>\n",
       "                        <td id=\"T_f44619a6_3565_11eb_bad6_02420a39db1erow0_col2\" class=\"data row0 col2\" >719</td>\n",
       "            </tr>\n",
       "            <tr>\n",
       "                        <th id=\"T_f44619a6_3565_11eb_bad6_02420a39db1elevel0_row1\" class=\"row_heading level0 row1\" >1</th>\n",
       "                        <td id=\"T_f44619a6_3565_11eb_bad6_02420a39db1erow1_col0\" class=\"data row1 col0\" >2019-08-02</td>\n",
       "                        <td id=\"T_f44619a6_3565_11eb_bad6_02420a39db1erow1_col1\" class=\"data row1 col1\" >A</td>\n",
       "                        <td id=\"T_f44619a6_3565_11eb_bad6_02420a39db1erow1_col2\" class=\"data row1 col2\" >619</td>\n",
       "            </tr>\n",
       "            <tr>\n",
       "                        <th id=\"T_f44619a6_3565_11eb_bad6_02420a39db1elevel0_row2\" class=\"row_heading level0 row2\" >2</th>\n",
       "                        <td id=\"T_f44619a6_3565_11eb_bad6_02420a39db1erow2_col0\" class=\"data row2 col0\" >2019-08-03</td>\n",
       "                        <td id=\"T_f44619a6_3565_11eb_bad6_02420a39db1erow2_col1\" class=\"data row2 col1\" >A</td>\n",
       "                        <td id=\"T_f44619a6_3565_11eb_bad6_02420a39db1erow2_col2\" class=\"data row2 col2\" >507</td>\n",
       "            </tr>\n",
       "            <tr>\n",
       "                        <th id=\"T_f44619a6_3565_11eb_bad6_02420a39db1elevel0_row3\" class=\"row_heading level0 row3\" >3</th>\n",
       "                        <td id=\"T_f44619a6_3565_11eb_bad6_02420a39db1erow3_col0\" class=\"data row3 col0\" >2019-08-04</td>\n",
       "                        <td id=\"T_f44619a6_3565_11eb_bad6_02420a39db1erow3_col1\" class=\"data row3 col1\" >A</td>\n",
       "                        <td id=\"T_f44619a6_3565_11eb_bad6_02420a39db1erow3_col2\" class=\"data row3 col2\" >717</td>\n",
       "            </tr>\n",
       "            <tr>\n",
       "                        <th id=\"T_f44619a6_3565_11eb_bad6_02420a39db1elevel0_row4\" class=\"row_heading level0 row4\" >4</th>\n",
       "                        <td id=\"T_f44619a6_3565_11eb_bad6_02420a39db1erow4_col0\" class=\"data row4 col0\" >2019-08-05</td>\n",
       "                        <td id=\"T_f44619a6_3565_11eb_bad6_02420a39db1erow4_col1\" class=\"data row4 col1\" >A</td>\n",
       "                        <td id=\"T_f44619a6_3565_11eb_bad6_02420a39db1erow4_col2\" class=\"data row4 col2\" >756</td>\n",
       "            </tr>\n",
       "    </tbody></table>   <style  type=\"text/css\" >\n",
       "</style><table id=\"T_f4465f38_3565_11eb_bad6_02420a39db1e\" style='display:inline'><caption>Гипотезы</caption><thead>    <tr>        <th class=\"blank level0\" ></th>        <th class=\"col_heading level0 col0\" >Hypothesis</th>        <th class=\"col_heading level0 col1\" >Reach</th>        <th class=\"col_heading level0 col2\" >Impact</th>        <th class=\"col_heading level0 col3\" >Confidence</th>        <th class=\"col_heading level0 col4\" >Efforts</th>    </tr></thead><tbody>\n",
       "                <tr>\n",
       "                        <th id=\"T_f4465f38_3565_11eb_bad6_02420a39db1elevel0_row0\" class=\"row_heading level0 row0\" >0</th>\n",
       "                        <td id=\"T_f4465f38_3565_11eb_bad6_02420a39db1erow0_col0\" class=\"data row0 col0\" >Добавить два новых канала привлечения трафика, что позволит привлекать на 30% больше пользователей</td>\n",
       "                        <td id=\"T_f4465f38_3565_11eb_bad6_02420a39db1erow0_col1\" class=\"data row0 col1\" >3</td>\n",
       "                        <td id=\"T_f4465f38_3565_11eb_bad6_02420a39db1erow0_col2\" class=\"data row0 col2\" >10</td>\n",
       "                        <td id=\"T_f4465f38_3565_11eb_bad6_02420a39db1erow0_col3\" class=\"data row0 col3\" >8</td>\n",
       "                        <td id=\"T_f4465f38_3565_11eb_bad6_02420a39db1erow0_col4\" class=\"data row0 col4\" >6</td>\n",
       "            </tr>\n",
       "            <tr>\n",
       "                        <th id=\"T_f4465f38_3565_11eb_bad6_02420a39db1elevel0_row1\" class=\"row_heading level0 row1\" >1</th>\n",
       "                        <td id=\"T_f4465f38_3565_11eb_bad6_02420a39db1erow1_col0\" class=\"data row1 col0\" >Запустить собственную службу доставки, что сократит срок доставки заказов</td>\n",
       "                        <td id=\"T_f4465f38_3565_11eb_bad6_02420a39db1erow1_col1\" class=\"data row1 col1\" >2</td>\n",
       "                        <td id=\"T_f4465f38_3565_11eb_bad6_02420a39db1erow1_col2\" class=\"data row1 col2\" >5</td>\n",
       "                        <td id=\"T_f4465f38_3565_11eb_bad6_02420a39db1erow1_col3\" class=\"data row1 col3\" >4</td>\n",
       "                        <td id=\"T_f4465f38_3565_11eb_bad6_02420a39db1erow1_col4\" class=\"data row1 col4\" >10</td>\n",
       "            </tr>\n",
       "            <tr>\n",
       "                        <th id=\"T_f4465f38_3565_11eb_bad6_02420a39db1elevel0_row2\" class=\"row_heading level0 row2\" >2</th>\n",
       "                        <td id=\"T_f4465f38_3565_11eb_bad6_02420a39db1erow2_col0\" class=\"data row2 col0\" >Добавить блоки рекомендаций товаров на сайт интернет магазина, чтобы повысить конверсию и средний чек заказа</td>\n",
       "                        <td id=\"T_f4465f38_3565_11eb_bad6_02420a39db1erow2_col1\" class=\"data row2 col1\" >8</td>\n",
       "                        <td id=\"T_f4465f38_3565_11eb_bad6_02420a39db1erow2_col2\" class=\"data row2 col2\" >3</td>\n",
       "                        <td id=\"T_f4465f38_3565_11eb_bad6_02420a39db1erow2_col3\" class=\"data row2 col3\" >7</td>\n",
       "                        <td id=\"T_f4465f38_3565_11eb_bad6_02420a39db1erow2_col4\" class=\"data row2 col4\" >3</td>\n",
       "            </tr>\n",
       "            <tr>\n",
       "                        <th id=\"T_f4465f38_3565_11eb_bad6_02420a39db1elevel0_row3\" class=\"row_heading level0 row3\" >3</th>\n",
       "                        <td id=\"T_f4465f38_3565_11eb_bad6_02420a39db1erow3_col0\" class=\"data row3 col0\" >Изменить структура категорий, что увеличит конверсию, т.к. пользователи быстрее найдут нужный товар</td>\n",
       "                        <td id=\"T_f4465f38_3565_11eb_bad6_02420a39db1erow3_col1\" class=\"data row3 col1\" >8</td>\n",
       "                        <td id=\"T_f4465f38_3565_11eb_bad6_02420a39db1erow3_col2\" class=\"data row3 col2\" >3</td>\n",
       "                        <td id=\"T_f4465f38_3565_11eb_bad6_02420a39db1erow3_col3\" class=\"data row3 col3\" >3</td>\n",
       "                        <td id=\"T_f4465f38_3565_11eb_bad6_02420a39db1erow3_col4\" class=\"data row3 col4\" >8</td>\n",
       "            </tr>\n",
       "            <tr>\n",
       "                        <th id=\"T_f4465f38_3565_11eb_bad6_02420a39db1elevel0_row4\" class=\"row_heading level0 row4\" >4</th>\n",
       "                        <td id=\"T_f4465f38_3565_11eb_bad6_02420a39db1erow4_col0\" class=\"data row4 col0\" >Изменить цвет фона главной страницы, чтобы увеличить вовлеченность пользователей</td>\n",
       "                        <td id=\"T_f4465f38_3565_11eb_bad6_02420a39db1erow4_col1\" class=\"data row4 col1\" >3</td>\n",
       "                        <td id=\"T_f4465f38_3565_11eb_bad6_02420a39db1erow4_col2\" class=\"data row4 col2\" >1</td>\n",
       "                        <td id=\"T_f4465f38_3565_11eb_bad6_02420a39db1erow4_col3\" class=\"data row4 col3\" >1</td>\n",
       "                        <td id=\"T_f4465f38_3565_11eb_bad6_02420a39db1erow4_col4\" class=\"data row4 col4\" >1</td>\n",
       "            </tr>\n",
       "    </tbody></table>   "
      ],
      "text/plain": [
       "<IPython.core.display.HTML object>"
      ]
     },
     "metadata": {},
     "output_type": "display_data"
    }
   ],
   "source": [
    "import pandas as pd\n",
    "import numpy as np\n",
    "import matplotlib.pyplot as plt\n",
    "import math\n",
    "import seaborn as sns\n",
    "import datetime as dt\n",
    "from matplotlib.pyplot import figure\n",
    "\n",
    "# Глобально снял ограничение на кол-во выводов для каждой ячейки ввода кода.\n",
    "from IPython.core.interactiveshell import InteractiveShell\n",
    "InteractiveShell.ast_node_interactivity = \"all\"\n",
    "\n",
    "# Включил возможность форматировать стили текста с помощью метода printmd()\n",
    "from IPython.display import Markdown, display, HTML\n",
    "def printmd(string):\n",
    "    display(Markdown(string))\n",
    "    \n",
    "# Снял ограничение на вывод кол-ва столбцов и ширины колонки.\n",
    "pd.set_option('display.max_columns', None)\n",
    "try:\n",
    "    pd.set_option('display.max_colwidth', None)\n",
    "except:\n",
    "    pd.set_option('display.max_colwidth', -1)\n",
    "    \n",
    "# Добавил функцию вывода таблиц в одну строку, для экономии пространства и улучшения восприятия информации.\n",
    "def display_side_by_side(dfs:list, captions:list):\n",
    "    output = \"\"\n",
    "    combined = dict(zip(captions, dfs))\n",
    "    for caption, df in combined.items():\n",
    "        output += df.style.set_table_attributes(\"style='display:inline'\").set_caption(caption)._repr_html_()\n",
    "        output += \"\\xa0\\xa0\\xa0\"\n",
    "    display(HTML(output))\n",
    "\n",
    "# Сформировал датафреймы из csv файлов сразу отсеяв дубликапты.\n",
    "hypothesis = pd.read_csv('/datasets/hypothesis.csv').drop_duplicates().reset_index(drop = True)\n",
    "orders = pd.read_csv('/datasets/orders.csv').drop_duplicates().reset_index(drop = True)\n",
    "visitors = pd.read_csv('/datasets/visitors.csv').drop_duplicates().reset_index(drop = True)\n",
    "\n",
    "display_side_by_side(\n",
    "    [orders.head(5),visitors.head(5),hypothesis.head(5)], \n",
    "    ['Заказы', 'Визиты','Гипотезы']\n",
    ")"
   ]
  },
  {
   "cell_type": "code",
   "execution_count": 2,
   "metadata": {},
   "outputs": [
    {
     "data": {
      "text/markdown": [
       "**Информация о заказах, orders:**"
      ],
      "text/plain": [
       "<IPython.core.display.Markdown object>"
      ]
     },
     "metadata": {},
     "output_type": "display_data"
    },
    {
     "name": "stdout",
     "output_type": "stream",
     "text": [
      "<class 'pandas.core.frame.DataFrame'>\n",
      "RangeIndex: 1197 entries, 0 to 1196\n",
      "Data columns (total 5 columns):\n",
      "transactionId    1197 non-null int64\n",
      "visitorId        1197 non-null int64\n",
      "date             1197 non-null object\n",
      "revenue          1197 non-null int64\n",
      "group            1197 non-null object\n",
      "dtypes: int64(3), object(2)\n",
      "memory usage: 46.9+ KB\n",
      "\n",
      "\n"
     ]
    },
    {
     "data": {
      "text/markdown": [
       "**Информация о визитах, visitors:**"
      ],
      "text/plain": [
       "<IPython.core.display.Markdown object>"
      ]
     },
     "metadata": {},
     "output_type": "display_data"
    },
    {
     "name": "stdout",
     "output_type": "stream",
     "text": [
      "<class 'pandas.core.frame.DataFrame'>\n",
      "RangeIndex: 62 entries, 0 to 61\n",
      "Data columns (total 3 columns):\n",
      "date        62 non-null object\n",
      "group       62 non-null object\n",
      "visitors    62 non-null int64\n",
      "dtypes: int64(1), object(2)\n",
      "memory usage: 1.6+ KB\n",
      "\n",
      "\n"
     ]
    },
    {
     "data": {
      "text/markdown": [
       "**Информация о гипотезах, hypothesis:**"
      ],
      "text/plain": [
       "<IPython.core.display.Markdown object>"
      ]
     },
     "metadata": {},
     "output_type": "display_data"
    },
    {
     "name": "stdout",
     "output_type": "stream",
     "text": [
      "<class 'pandas.core.frame.DataFrame'>\n",
      "RangeIndex: 9 entries, 0 to 8\n",
      "Data columns (total 5 columns):\n",
      "Hypothesis    9 non-null object\n",
      "Reach         9 non-null int64\n",
      "Impact        9 non-null int64\n",
      "Confidence    9 non-null int64\n",
      "Efforts       9 non-null int64\n",
      "dtypes: int64(4), object(1)\n",
      "memory usage: 488.0+ bytes\n"
     ]
    }
   ],
   "source": [
    "printmd('**Информация о заказах, orders:**')\n",
    "orders.info()\n",
    "print()\n",
    "print()\n",
    "printmd('**Информация о визитах, visitors:**')\n",
    "visitors.info()\n",
    "print()\n",
    "print()\n",
    "printmd('**Информация о гипотезах, hypothesis:**')\n",
    "hypothesis.info()"
   ]
  },
  {
   "cell_type": "code",
   "execution_count": 3,
   "metadata": {
    "scrolled": false
   },
   "outputs": [
    {
     "data": {
      "text/markdown": [
       "**orders:**"
      ],
      "text/plain": [
       "<IPython.core.display.Markdown object>"
      ]
     },
     "metadata": {},
     "output_type": "display_data"
    },
    {
     "name": "stdout",
     "output_type": "stream",
     "text": [
      "transactionId (int64):\n",
      "[   1062393    4919758    7210578 ... 4281129020 4288552432 4293855558]\n",
      "Кол-во элементов: 1197 из 1197\n",
      "\n",
      "visitorId (int64):\n",
      "[   5114589    6958315    8300375 ... 4279090005 4281247801 4283872382]\n",
      "Кол-во элементов: 1197 из 1197\n",
      "\n",
      "date (object):\n",
      "['2019-08-01' '2019-08-02' '2019-08-03' '2019-08-04' '2019-08-05'\n",
      " '2019-08-06' '2019-08-07' '2019-08-08' '2019-08-09' '2019-08-10'\n",
      " '2019-08-11' '2019-08-12' '2019-08-13' '2019-08-14' '2019-08-15'\n",
      " '2019-08-16' '2019-08-17' '2019-08-18' '2019-08-19' '2019-08-20'\n",
      " '2019-08-21' '2019-08-22' '2019-08-23' '2019-08-24' '2019-08-25'\n",
      " '2019-08-26' '2019-08-27' '2019-08-28' '2019-08-29' '2019-08-30'\n",
      " '2019-08-31']\n",
      "Кол-во элементов: 1197 из 1197\n",
      "\n",
      "revenue (int64):\n",
      "[     50      60      70      75      76      90     100     110     112\n",
      "     120     130     150     160     165     170     172     190     240\n",
      "     250     265     270     282     290     295     299     300     310\n",
      "     320     340     350     359     360     370     380     382     383\n",
      "     390     400     410     420     426     436     440     450     460\n",
      "     470     480     490     495     500     510     530     540     550\n",
      "     570     580     590     599     600     604     610     620     632\n",
      "     640     650     654     660     690     697     700     720     725\n",
      "     730     740     750     760     770     778     780     785     790\n",
      "     800     820     830     840     850     860     870     880     890\n",
      "     900     910     920     950     971     980     985     987     990\n",
      "     995    1000    1020    1038    1040    1044    1050    1060    1090\n",
      "    1100    1120    1130    1139    1140    1149    1170    1180    1188\n",
      "    1190    1200    1220    1250    1253    1280    1290    1310    1320\n",
      "    1329    1350    1380    1390    1398    1399    1410    1420    1435\n",
      "    1440    1450    1460    1490    1498    1510    1530    1540    1550\n",
      "    1575    1580    1590    1600    1620    1630    1634    1640    1650\n",
      "    1680    1690    1707    1710    1720    1721    1729    1730    1737\n",
      "    1758    1780    1790    1799    1800    1805    1825    1830    1840\n",
      "    1846    1850    1855    1860    1870    1885    1893    1900    1910\n",
      "    1920    1922    1940    1950    1960    1980    1990    1993    1999\n",
      "    2000    2030    2050    2057    2061    2070    2080    2090    2110\n",
      "    2140    2180    2190    2210    2220    2235    2250    2255    2285\n",
      "    2290    2308    2320    2330    2339    2342    2348    2350    2355\n",
      "    2359    2360    2385    2390    2400    2420    2436    2470    2480\n",
      "    2490    2500    2510    2526    2540    2550    2555    2578    2580\n",
      "    2590    2600    2610    2630    2640    2646    2670    2674    2690\n",
      "    2722    2750    2752    2790    2800    2820    2830    2840    2845\n",
      "    2890    2907    2920    2938    2950    2955    2960    2970    2978\n",
      "    2986    2990    2995    3000    3020    3030    3040    3050    3070\n",
      "    3080    3140    3150    3170    3180    3190    3210    3220    3240\n",
      "    3250    3260    3261    3270    3290    3320    3330    3340    3354\n",
      "    3390    3404    3410    3430    3450    3460    3468    3470    3480\n",
      "    3488    3490    3500    3520    3525    3550    3559    3564    3590\n",
      "    3600    3650    3680    3739    3740    3760    3780    3806    3826\n",
      "    3888    3890    3910    3950    3980    3990    4008    4020    4040\n",
      "    4120    4140    4170    4180    4185    4188    4190    4195    4210\n",
      "    4240    4283    4299    4363    4370    4390    4400    4410    4480\n",
      "    4485    4495    4499    4500    4580    4600    4620    4650    4685\n",
      "    4690    4698    4710    4717    4740    4780    4790    4840    4877\n",
      "    4880    4900    4920    4930    4940    4970    4980    4990    5000\n",
      "    5020    5030    5050    5070    5099    5100    5119    5150    5160\n",
      "    5170    5190    5227    5249    5270    5280    5330    5350    5365\n",
      "    5369    5390    5400    5415    5430    5440    5450    5480    5490\n",
      "    5530    5539    5555    5622    5640    5688    5690    5719    5740\n",
      "    5770    5776    5790    5800    5840    5870    5900    5970    6000\n",
      "    6015    6060    6090    6145    6149    6170    6180    6194    6201\n",
      "    6230    6242    6248    6250    6260    6288    6329    6350    6382\n",
      "    6385    6400    6420    6438    6440    6441    6445    6490    6536\n",
      "    6585    6590    6613    6645    6660    6674    6677    6681    6700\n",
      "    6716    6780    6890    6922    6930    6940    6976    6990    7024\n",
      "    7110    7129    7240    7300    7349    7370    7390    7485    7500\n",
      "    7550    7555    7620    7690    7860    7890    7990    7995    8000\n",
      "    8090    8099    8240    8250    8280    8290    8340    8390    8401\n",
      "    8439    8470    8529    8585    8590    8600    8640    8777    8780\n",
      "    8800    8850    8870    8877    8885    8950    8990    8999    9024\n",
      "    9050    9080    9232    9290    9300    9310    9368    9400    9448\n",
      "    9490    9680    9690    9750    9759    9800    9850    9870    9880\n",
      "    9934    9980    9990   10137   10160   10170   10195   10250   10380\n",
      "   10440   10450   10485   10510   10550   10590   10765   10791   10850\n",
      "   10960   10970   10980   11050   11115   11135   11249   11250   11440\n",
      "   11490   11565   11688   11711   11985   11990   12150   12336   12350\n",
      "   12470   12490   12550   12562   12642   12680   12810   12888   12990\n",
      "   13070   13203   13354   13390   13710   13740   13769   13770   13860\n",
      "   13990   14000   14155   14250   14271   14400   14489   14490   14495\n",
      "   14610   14970   14990   15072   15185   15277   15380   15416   15417\n",
      "   15450   15485   15500   15850   16279   16480   16490   16680   16770\n",
      "   16920   16950   16990   17030   17300   17379   17422   17600   17650\n",
      "   17792   17868   17940   17990   18010   18100   18270   18350   18463\n",
      "   18464   18557   18560   18893   18900   18990   19240   19260   19280\n",
      "   19386   19490   19520   19538   19660   19990   20026   20100   20219\n",
      "   20290   20450   20990   21220   21550   22040   22785   22950   23750\n",
      "   24350   24381   24744   24860   24990   25080   25250   25790   25890\n",
      "   26550   26980   27390   27490   27550   27600   27985   28060   28350\n",
      "   28490   28750   29499   30649   30990   31350   31550   31680   32350\n",
      "   32610   33050   33405   33970   34340   34550   34990   35485   35890\n",
      "   37150   37550   38160   39500   39800   40740   41450   42740   43690\n",
      "   43990   45780   45880   49495   52480   52900   53904   56650   58220\n",
      "   58550   60450   65710   66350   67990   78990   86620   92550   93940\n",
      "  202740 1294500]\n",
      "Кол-во элементов: 1197 из 1197\n",
      "\n",
      "group (object):\n",
      "['A' 'B']\n",
      "Кол-во элементов: 1197 из 1197\n",
      "\n",
      "\n",
      "\n"
     ]
    },
    {
     "data": {
      "text/markdown": [
       "**visitors:**"
      ],
      "text/plain": [
       "<IPython.core.display.Markdown object>"
      ]
     },
     "metadata": {},
     "output_type": "display_data"
    },
    {
     "name": "stdout",
     "output_type": "stream",
     "text": [
      "date (object):\n",
      "['2019-08-01' '2019-08-02' '2019-08-03' '2019-08-04' '2019-08-05'\n",
      " '2019-08-06' '2019-08-07' '2019-08-08' '2019-08-09' '2019-08-10'\n",
      " '2019-08-11' '2019-08-12' '2019-08-13' '2019-08-14' '2019-08-15'\n",
      " '2019-08-16' '2019-08-17' '2019-08-18' '2019-08-19' '2019-08-20'\n",
      " '2019-08-21' '2019-08-22' '2019-08-23' '2019-08-24' '2019-08-25'\n",
      " '2019-08-26' '2019-08-27' '2019-08-28' '2019-08-29' '2019-08-30'\n",
      " '2019-08-31']\n",
      "Кол-во элементов: 62 из 62\n",
      "\n",
      "group (object):\n",
      "['A' 'B']\n",
      "Кол-во элементов: 62 из 62\n",
      "\n",
      "visitors (int64):\n",
      "[361 369 378 395 406 412 413 421 468 487 490 502 507 509 531 543 544 546\n",
      " 560 575 577 581 594 595 609 610 617 619 621 628 644 646 650 654 655 656\n",
      " 667 668 676 679 699 707 709 711 713 717 718 719 720 721 722 735 737 746\n",
      " 748 756 769 770]\n",
      "Кол-во элементов: 62 из 62\n",
      "\n",
      "\n",
      "\n"
     ]
    },
    {
     "data": {
      "text/markdown": [
       "**hypothesis:**"
      ],
      "text/plain": [
       "<IPython.core.display.Markdown object>"
      ]
     },
     "metadata": {},
     "output_type": "display_data"
    },
    {
     "name": "stdout",
     "output_type": "stream",
     "text": [
      "Hypothesis (object):\n",
      "['Добавить блоки рекомендаций товаров на сайт интернет магазина, чтобы повысить конверсию и средний чек заказа'\n",
      " 'Добавить два новых канала привлечения трафика, что позволит привлекать на 30% больше пользователей'\n",
      " 'Добавить страницу отзывов клиентов о магазине, что позволит увеличить количество заказов'\n",
      " 'Добавить форму подписки на все основные страницы, чтобы собрать базу клиентов для email-рассылок'\n",
      " 'Запустить акцию, дающую скидку на товар в день рождения'\n",
      " 'Запустить собственную службу доставки, что сократит срок доставки заказов'\n",
      " 'Изменить структура категорий, что увеличит конверсию, т.к. пользователи быстрее найдут нужный товар'\n",
      " 'Изменить цвет фона главной страницы, чтобы увеличить вовлеченность пользователей'\n",
      " 'Показать на главной странице баннеры с актуальными акциями и распродажами, чтобы увеличить конверсию']\n",
      "Кол-во элементов: 9 из 9\n",
      "\n",
      "Reach (int64):\n",
      "[ 1  2  3  5  8 10]\n",
      "Кол-во элементов: 9 из 9\n",
      "\n",
      "Impact (int64):\n",
      "[ 1  2  3  5  7  9 10]\n",
      "Кол-во элементов: 9 из 9\n",
      "\n",
      "Confidence (int64):\n",
      "[1 2 3 4 7 8 9]\n",
      "Кол-во элементов: 9 из 9\n",
      "\n",
      "Efforts (int64):\n",
      "[ 1  3  5  6  8 10]\n",
      "Кол-во элементов: 9 из 9\n",
      "\n"
     ]
    }
   ],
   "source": [
    "# Вывел уникальные значения столбцов, для проверки корректности данных. \n",
    "# Применил try except для обхода ошибок сортировки. Сортировал значения там, где это возможно.\n",
    "def check_unique(df):\n",
    "    a = []\n",
    "    for column in df.columns:\n",
    "        datatype = df[column].dtypes\n",
    "        print('{} ({}):'.format(column,datatype))\n",
    "        try:\n",
    "            a = df[column].unique()\n",
    "            a.sort()\n",
    "            with np.set_printoptions(formatter={'float_kind':'{:.2f}'.format}):\n",
    "                print(a)\n",
    "        except:\n",
    "            print(a)\n",
    "\n",
    "        print('Кол-во элементов: {} из {}'.format(df[column].count(),len(df)))\n",
    "        print()\n",
    "        \n",
    "printmd('**orders:**')\n",
    "check_unique(orders)\n",
    "print()\n",
    "print()\n",
    "printmd('**visitors:**')\n",
    "check_unique(visitors)\n",
    "print()\n",
    "print()\n",
    "printmd('**hypothesis:**')\n",
    "check_unique(hypothesis)"
   ]
  },
  {
   "cell_type": "markdown",
   "metadata": {},
   "source": [
    "### Вывод"
   ]
  },
  {
   "cell_type": "markdown",
   "metadata": {},
   "source": [
    "##### Информация о заказах, orders:      \n",
    "<table>\n",
    "  <thead>\n",
    "    <tr>\n",
    "      <td style=\"text-align: left;\"><b>id колонки</b></td>\n",
    "      <td style=\"text-align: left;width:100%;\"><b>Описание</b></td>\n",
    "      <td><b>Кол-во непустых значений</b></td>\n",
    "      <td><b>Тип данных</b></td>\n",
    "      <td style=\"text-align: left;min-width:315px;\"><b>Комментарий</b></td>\n",
    "    </tr>\n",
    "  </thead>\n",
    "  <tr>\n",
    "    <td style=\"text-align: left;\">transactionId</td>\n",
    "    <td style=\"text-align: left;\">идентификатор заказа</td>\n",
    "    <td>1197</td>\n",
    "    <td>int64</td>\n",
    "    <td style=\"text-align: left;\">Изменить название колонки на `transaction_id`</td>\n",
    "  </tr>    \n",
    "  <tr>\n",
    "    <td style=\"text-align: left;\">visitorId</td>\n",
    "    <td style=\"text-align: left;\">идентификатор пользователя, совершившего заказ</td>\n",
    "    <td>1197</td>\n",
    "    <td>int64</td>\n",
    "    <td style=\"text-align: left;\">Изменить название колонки на `visitor_id`</td>\n",
    "  </tr>\n",
    "  <tr>\n",
    "    <td style=\"text-align: left;\">date</td>\n",
    "    <td style=\"text-align: left;\">дата, когда был совершён заказ</td>\n",
    "    <td>1197</td>\n",
    "    <td>object</td>\n",
    "    <td style=\"text-align: left;\">Тип должен быть datetime64.</td>\n",
    "  </tr>\n",
    "  <tr>\n",
    "    <td style=\"text-align: left;\">revenue</td>\n",
    "    <td style=\"text-align: left;\">выручка заказа</td>\n",
    "    <td>1197</td>\n",
    "    <td>int64</td>\n",
    "    <td style=\"text-align: left;\"></td>\n",
    "  </tr>\n",
    "  <tr>\n",
    "    <td style=\"text-align: left;\">group</td>\n",
    "    <td style=\"text-align: left;\">группа A/B-теста, в которую попал заказ</td>\n",
    "    <td>1197</td>\n",
    "    <td>object</td>\n",
    "    <td style=\"text-align: left;\"></td>\n",
    "  </tr>\n",
    "</table>\n",
    "\n",
    "##### Информация о посещениях сайта, visitors:\n",
    "<table>\n",
    "  <thead>\n",
    "    <tr>\n",
    "      <td style=\"text-align: left;\"><b>id колонки</b></td>\n",
    "      <td style=\"text-align: left;width:100%;\"><b>Описание</b></td>\n",
    "      <td><b>Кол-во непустых значений</b></td>\n",
    "      <td><b>Тип данных</b></td>\n",
    "      <td style=\"text-align: left;min-width:315px;\"><b>Комментарий</b></td>\n",
    "    </tr>\n",
    "  </thead>\n",
    "  <tr>\n",
    "    <td style=\"text-align: left;\">date</td>\n",
    "    <td style=\"text-align: left;\">дата</td>\n",
    "    <td>62</td>\n",
    "    <td>object</td>\n",
    "    <td style=\"text-align: left;\">Тип должен быть datetime64.</td>\n",
    "  </tr>\n",
    "  <tr>\n",
    "    <td style=\"text-align: left;\">group</td>\n",
    "    <td style=\"text-align: left;\">группа A/B-теста</td>\n",
    "    <td>62</td>\n",
    "    <td>object</td>\n",
    "    <td style=\"text-align: left;\">Изменить название колонки на `end_ts`</td>\n",
    "  </tr>\n",
    "  <tr>\n",
    "    <td style=\"text-align: left;\">visitors</td>\n",
    "    <td style=\"text-align: left;\">количество пользователей в указанную дату в указанной группе A/B-теста</td>\n",
    "    <td>62</td>\n",
    "    <td>int64</td>\n",
    "    <td style=\"text-align: left;\">Изменить название колонки на `source_id`</td>\n",
    "  </tr>\n",
    "</table>\n",
    "\n",
    "##### Информация о гипотезах, hypothesis:\n",
    "<table>\n",
    "  <thead>\n",
    "    <tr>\n",
    "      <td style=\"text-align: left;\"><b>id колонки</b></td>\n",
    "      <td style=\"text-align: left; width:100%\"><b>Описание</b></td>\n",
    "      <td><b>Кол-во непустых значений</b></td>\n",
    "      <td><b>Тип данных</b></td>\n",
    "      <td style=\"text-align: left;min-width:315px;\"><b>Комментарий</b></td>\n",
    "    </tr>\n",
    "  </thead>\n",
    "  <tr>\n",
    "    <td style=\"text-align: left;\">Hypothesis</td>\n",
    "    <td style=\"text-align: left;\">краткое описание гипотезы</td>\n",
    "    <td>9</td>\n",
    "    <td>object</td>\n",
    "    <td style=\"text-align: left;\">Привести название колонки к нижнему регистру.</td>\n",
    "  </tr>\n",
    "  <tr>\n",
    "    <td style=\"text-align: left;\">Reach</td>\n",
    "    <td style=\"text-align: left;\">охват пользователей по 10-балльной шкале</td>\n",
    "    <td>9</td>\n",
    "    <td>int64</td>\n",
    "    <td style=\"text-align: left;\">Привести название колонки к нижнему регистру.</td>\n",
    "  </tr>\n",
    "  <tr>\n",
    "    <td style=\"text-align: left;\">Impact</td>\n",
    "    <td style=\"text-align: left;\">влияние на пользователей по 10-балльной шкале</td>\n",
    "    <td>9</td>\n",
    "    <td>int64</td>\n",
    "    <td style=\"text-align: left;\">Привести название колонки к нижнему регистру.</td>\n",
    "  </tr>\n",
    "  <tr>\n",
    "    <td style=\"text-align: left;\">Confidence</td>\n",
    "    <td style=\"text-align: left;\">уверенность в гипотезе по 10-балльной шкале</td>\n",
    "    <td>9</td>\n",
    "    <td>int64</td>\n",
    "    <td style=\"text-align: left;\">Привести название колонки к нижнему регистру.</td>\n",
    "  </tr>\n",
    "  <tr>\n",
    "    <td style=\"text-align: left;\">Efforts</td>\n",
    "    <td style=\"text-align: left;\">затраты ресурсов на проверку гипотезы по 10-балльной шкале</td>\n",
    "    <td>9</td>\n",
    "    <td>int64</td>\n",
    "    <td style=\"text-align: left;\">Привести название колонки к нижнему регистру.</td>\n",
    "  </tr>    \n",
    "</table>"
   ]
  },
  {
   "cell_type": "markdown",
   "metadata": {},
   "source": [
    "<a id='step_2'></a>\n",
    "## 2. Предобработка данных:"
   ]
  },
  {
   "cell_type": "code",
   "execution_count": 4,
   "metadata": {},
   "outputs": [],
   "source": [
    "import re\n",
    "\n",
    "#Функция add_underline() находит стык букв с нижним и верхним регистром и добавляет знак подчерка между ними.\n",
    "def add_underline(dstr):\n",
    "    try:\n",
    "        temp = re.search('[A-Z]+[a-z]+$', dstr)[0]\n",
    "        result = dstr.replace(temp, \"_\"+temp.lower())\n",
    "        if result[0] == \"_\":\n",
    "            return result[1:]\n",
    "        else:\n",
    "            return result\n",
    "    except:\n",
    "        return dstr\n",
    "    \n",
    "#Конструкция функций add_underline() и col_name_standart() приводят названия колонок к удобному формату.\n",
    "def col_name_standart(df):\n",
    "    try:\n",
    "        df.columns = [add_underline(x) for x in df.columns]\n",
    "    except Exception as e: \n",
    "        print(e)\n",
    "    df.columns = [x.replace(\" \", \"_\") for x in df.columns]"
   ]
  },
  {
   "cell_type": "code",
   "execution_count": 5,
   "metadata": {},
   "outputs": [
    {
     "data": {
      "text/html": [
       "<style  type=\"text/css\" >\n",
       "</style><table id=\"T_f4a8e34c_3565_11eb_bad6_02420a39db1e\" style='display:inline'><caption>Заказы</caption><thead>    <tr>        <th class=\"blank level0\" ></th>        <th class=\"col_heading level0 col0\" >transaction_id</th>        <th class=\"col_heading level0 col1\" >visitor_id</th>        <th class=\"col_heading level0 col2\" >date</th>        <th class=\"col_heading level0 col3\" >revenue</th>        <th class=\"col_heading level0 col4\" >group</th>    </tr></thead><tbody>\n",
       "                <tr>\n",
       "                        <th id=\"T_f4a8e34c_3565_11eb_bad6_02420a39db1elevel0_row0\" class=\"row_heading level0 row0\" >0</th>\n",
       "                        <td id=\"T_f4a8e34c_3565_11eb_bad6_02420a39db1erow0_col0\" class=\"data row0 col0\" >3667963787</td>\n",
       "                        <td id=\"T_f4a8e34c_3565_11eb_bad6_02420a39db1erow0_col1\" class=\"data row0 col1\" >3312258926</td>\n",
       "                        <td id=\"T_f4a8e34c_3565_11eb_bad6_02420a39db1erow0_col2\" class=\"data row0 col2\" >2019-08-15</td>\n",
       "                        <td id=\"T_f4a8e34c_3565_11eb_bad6_02420a39db1erow0_col3\" class=\"data row0 col3\" >1650</td>\n",
       "                        <td id=\"T_f4a8e34c_3565_11eb_bad6_02420a39db1erow0_col4\" class=\"data row0 col4\" >B</td>\n",
       "            </tr>\n",
       "            <tr>\n",
       "                        <th id=\"T_f4a8e34c_3565_11eb_bad6_02420a39db1elevel0_row1\" class=\"row_heading level0 row1\" >1</th>\n",
       "                        <td id=\"T_f4a8e34c_3565_11eb_bad6_02420a39db1erow1_col0\" class=\"data row1 col0\" >2804400009</td>\n",
       "                        <td id=\"T_f4a8e34c_3565_11eb_bad6_02420a39db1erow1_col1\" class=\"data row1 col1\" >3642806036</td>\n",
       "                        <td id=\"T_f4a8e34c_3565_11eb_bad6_02420a39db1erow1_col2\" class=\"data row1 col2\" >2019-08-15</td>\n",
       "                        <td id=\"T_f4a8e34c_3565_11eb_bad6_02420a39db1erow1_col3\" class=\"data row1 col3\" >730</td>\n",
       "                        <td id=\"T_f4a8e34c_3565_11eb_bad6_02420a39db1erow1_col4\" class=\"data row1 col4\" >B</td>\n",
       "            </tr>\n",
       "            <tr>\n",
       "                        <th id=\"T_f4a8e34c_3565_11eb_bad6_02420a39db1elevel0_row2\" class=\"row_heading level0 row2\" >2</th>\n",
       "                        <td id=\"T_f4a8e34c_3565_11eb_bad6_02420a39db1erow2_col0\" class=\"data row2 col0\" >2961555356</td>\n",
       "                        <td id=\"T_f4a8e34c_3565_11eb_bad6_02420a39db1erow2_col1\" class=\"data row2 col1\" >4069496402</td>\n",
       "                        <td id=\"T_f4a8e34c_3565_11eb_bad6_02420a39db1erow2_col2\" class=\"data row2 col2\" >2019-08-15</td>\n",
       "                        <td id=\"T_f4a8e34c_3565_11eb_bad6_02420a39db1erow2_col3\" class=\"data row2 col3\" >400</td>\n",
       "                        <td id=\"T_f4a8e34c_3565_11eb_bad6_02420a39db1erow2_col4\" class=\"data row2 col4\" >A</td>\n",
       "            </tr>\n",
       "    </tbody></table>   <style  type=\"text/css\" >\n",
       "</style><table id=\"T_f4a93018_3565_11eb_bad6_02420a39db1e\" style='display:inline'><caption>Визиты</caption><thead>    <tr>        <th class=\"blank level0\" ></th>        <th class=\"col_heading level0 col0\" >date</th>        <th class=\"col_heading level0 col1\" >group</th>        <th class=\"col_heading level0 col2\" >visitors</th>    </tr></thead><tbody>\n",
       "                <tr>\n",
       "                        <th id=\"T_f4a93018_3565_11eb_bad6_02420a39db1elevel0_row0\" class=\"row_heading level0 row0\" >0</th>\n",
       "                        <td id=\"T_f4a93018_3565_11eb_bad6_02420a39db1erow0_col0\" class=\"data row0 col0\" >2019-08-01</td>\n",
       "                        <td id=\"T_f4a93018_3565_11eb_bad6_02420a39db1erow0_col1\" class=\"data row0 col1\" >A</td>\n",
       "                        <td id=\"T_f4a93018_3565_11eb_bad6_02420a39db1erow0_col2\" class=\"data row0 col2\" >719</td>\n",
       "            </tr>\n",
       "            <tr>\n",
       "                        <th id=\"T_f4a93018_3565_11eb_bad6_02420a39db1elevel0_row1\" class=\"row_heading level0 row1\" >1</th>\n",
       "                        <td id=\"T_f4a93018_3565_11eb_bad6_02420a39db1erow1_col0\" class=\"data row1 col0\" >2019-08-02</td>\n",
       "                        <td id=\"T_f4a93018_3565_11eb_bad6_02420a39db1erow1_col1\" class=\"data row1 col1\" >A</td>\n",
       "                        <td id=\"T_f4a93018_3565_11eb_bad6_02420a39db1erow1_col2\" class=\"data row1 col2\" >619</td>\n",
       "            </tr>\n",
       "            <tr>\n",
       "                        <th id=\"T_f4a93018_3565_11eb_bad6_02420a39db1elevel0_row2\" class=\"row_heading level0 row2\" >2</th>\n",
       "                        <td id=\"T_f4a93018_3565_11eb_bad6_02420a39db1erow2_col0\" class=\"data row2 col0\" >2019-08-03</td>\n",
       "                        <td id=\"T_f4a93018_3565_11eb_bad6_02420a39db1erow2_col1\" class=\"data row2 col1\" >A</td>\n",
       "                        <td id=\"T_f4a93018_3565_11eb_bad6_02420a39db1erow2_col2\" class=\"data row2 col2\" >507</td>\n",
       "            </tr>\n",
       "    </tbody></table>   <style  type=\"text/css\" >\n",
       "</style><table id=\"T_f4a9631c_3565_11eb_bad6_02420a39db1e\" style='display:inline'><caption>Гипотезы</caption><thead>    <tr>        <th class=\"blank level0\" ></th>        <th class=\"col_heading level0 col0\" >hypothesis</th>        <th class=\"col_heading level0 col1\" >reach</th>        <th class=\"col_heading level0 col2\" >impact</th>        <th class=\"col_heading level0 col3\" >confidence</th>        <th class=\"col_heading level0 col4\" >efforts</th>    </tr></thead><tbody>\n",
       "                <tr>\n",
       "                        <th id=\"T_f4a9631c_3565_11eb_bad6_02420a39db1elevel0_row0\" class=\"row_heading level0 row0\" >0</th>\n",
       "                        <td id=\"T_f4a9631c_3565_11eb_bad6_02420a39db1erow0_col0\" class=\"data row0 col0\" >Добавить два новых канала привлечения трафика, что позволит привлекать на 30% больше пользователей</td>\n",
       "                        <td id=\"T_f4a9631c_3565_11eb_bad6_02420a39db1erow0_col1\" class=\"data row0 col1\" >3</td>\n",
       "                        <td id=\"T_f4a9631c_3565_11eb_bad6_02420a39db1erow0_col2\" class=\"data row0 col2\" >10</td>\n",
       "                        <td id=\"T_f4a9631c_3565_11eb_bad6_02420a39db1erow0_col3\" class=\"data row0 col3\" >8</td>\n",
       "                        <td id=\"T_f4a9631c_3565_11eb_bad6_02420a39db1erow0_col4\" class=\"data row0 col4\" >6</td>\n",
       "            </tr>\n",
       "            <tr>\n",
       "                        <th id=\"T_f4a9631c_3565_11eb_bad6_02420a39db1elevel0_row1\" class=\"row_heading level0 row1\" >1</th>\n",
       "                        <td id=\"T_f4a9631c_3565_11eb_bad6_02420a39db1erow1_col0\" class=\"data row1 col0\" >Запустить собственную службу доставки, что сократит срок доставки заказов</td>\n",
       "                        <td id=\"T_f4a9631c_3565_11eb_bad6_02420a39db1erow1_col1\" class=\"data row1 col1\" >2</td>\n",
       "                        <td id=\"T_f4a9631c_3565_11eb_bad6_02420a39db1erow1_col2\" class=\"data row1 col2\" >5</td>\n",
       "                        <td id=\"T_f4a9631c_3565_11eb_bad6_02420a39db1erow1_col3\" class=\"data row1 col3\" >4</td>\n",
       "                        <td id=\"T_f4a9631c_3565_11eb_bad6_02420a39db1erow1_col4\" class=\"data row1 col4\" >10</td>\n",
       "            </tr>\n",
       "            <tr>\n",
       "                        <th id=\"T_f4a9631c_3565_11eb_bad6_02420a39db1elevel0_row2\" class=\"row_heading level0 row2\" >2</th>\n",
       "                        <td id=\"T_f4a9631c_3565_11eb_bad6_02420a39db1erow2_col0\" class=\"data row2 col0\" >Добавить блоки рекомендаций товаров на сайт интернет магазина, чтобы повысить конверсию и средний чек заказа</td>\n",
       "                        <td id=\"T_f4a9631c_3565_11eb_bad6_02420a39db1erow2_col1\" class=\"data row2 col1\" >8</td>\n",
       "                        <td id=\"T_f4a9631c_3565_11eb_bad6_02420a39db1erow2_col2\" class=\"data row2 col2\" >3</td>\n",
       "                        <td id=\"T_f4a9631c_3565_11eb_bad6_02420a39db1erow2_col3\" class=\"data row2 col3\" >7</td>\n",
       "                        <td id=\"T_f4a9631c_3565_11eb_bad6_02420a39db1erow2_col4\" class=\"data row2 col4\" >3</td>\n",
       "            </tr>\n",
       "    </tbody></table>   "
      ],
      "text/plain": [
       "<IPython.core.display.HTML object>"
      ]
     },
     "metadata": {},
     "output_type": "display_data"
    }
   ],
   "source": [
    "col_name_standart(hypothesis)\n",
    "col_name_standart(orders)\n",
    "col_name_standart(visitors)\n",
    "display_side_by_side(\n",
    "    [orders.head(3),visitors.head(3),hypothesis.head(3)], \n",
    "    ['Заказы', 'Визиты','Гипотезы']\n",
    ")"
   ]
  },
  {
   "cell_type": "code",
   "execution_count": 6,
   "metadata": {},
   "outputs": [],
   "source": [
    "orders['date'] = pd.to_datetime(orders['date'])\n",
    "visitors['date'] = pd.to_datetime(visitors['date'])"
   ]
  },
  {
   "cell_type": "markdown",
   "metadata": {},
   "source": [
    "### Вывод"
   ]
  },
  {
   "cell_type": "markdown",
   "metadata": {},
   "source": [
    "<div class=\"alert alert-success\">\n",
    "<b>Комментарии ревьюера</b>  \n",
    "    \n",
    "По этому блоку хотела отметить: круто, что ты используешь пользовательские функции для анализа данных, это всегда приветствуется :)\n",
    "</div>"
   ]
  },
  {
   "cell_type": "markdown",
   "metadata": {},
   "source": [
    "<a id='step_3'></a>\n",
    "## 3. Приоритизация ICE и RICE:"
   ]
  },
  {
   "cell_type": "code",
   "execution_count": 7,
   "metadata": {},
   "outputs": [
    {
     "data": {
      "text/html": [
       "<div>\n",
       "<style scoped>\n",
       "    .dataframe tbody tr th:only-of-type {\n",
       "        vertical-align: middle;\n",
       "    }\n",
       "\n",
       "    .dataframe tbody tr th {\n",
       "        vertical-align: top;\n",
       "    }\n",
       "\n",
       "    .dataframe thead th {\n",
       "        text-align: right;\n",
       "    }\n",
       "</style>\n",
       "<table border=\"1\" class=\"dataframe\">\n",
       "  <thead>\n",
       "    <tr style=\"text-align: right;\">\n",
       "      <th></th>\n",
       "      <th>hypothesis</th>\n",
       "      <th>reach</th>\n",
       "      <th>impact</th>\n",
       "      <th>confidence</th>\n",
       "      <th>efforts</th>\n",
       "      <th>ICE</th>\n",
       "    </tr>\n",
       "  </thead>\n",
       "  <tbody>\n",
       "    <tr>\n",
       "      <td>8</td>\n",
       "      <td>Запустить акцию, дающую скидку на товар в день рождения</td>\n",
       "      <td>1</td>\n",
       "      <td>9</td>\n",
       "      <td>9</td>\n",
       "      <td>5</td>\n",
       "      <td>16.20</td>\n",
       "    </tr>\n",
       "    <tr>\n",
       "      <td>0</td>\n",
       "      <td>Добавить два новых канала привлечения трафика, что позволит привлекать на 30% больше пользователей</td>\n",
       "      <td>3</td>\n",
       "      <td>10</td>\n",
       "      <td>8</td>\n",
       "      <td>6</td>\n",
       "      <td>13.33</td>\n",
       "    </tr>\n",
       "    <tr>\n",
       "      <td>7</td>\n",
       "      <td>Добавить форму подписки на все основные страницы, чтобы собрать базу клиентов для email-рассылок</td>\n",
       "      <td>10</td>\n",
       "      <td>7</td>\n",
       "      <td>8</td>\n",
       "      <td>5</td>\n",
       "      <td>11.20</td>\n",
       "    </tr>\n",
       "    <tr>\n",
       "      <td>6</td>\n",
       "      <td>Показать на главной странице баннеры с актуальными акциями и распродажами, чтобы увеличить конверсию</td>\n",
       "      <td>5</td>\n",
       "      <td>3</td>\n",
       "      <td>8</td>\n",
       "      <td>3</td>\n",
       "      <td>8.00</td>\n",
       "    </tr>\n",
       "    <tr>\n",
       "      <td>2</td>\n",
       "      <td>Добавить блоки рекомендаций товаров на сайт интернет магазина, чтобы повысить конверсию и средний чек заказа</td>\n",
       "      <td>8</td>\n",
       "      <td>3</td>\n",
       "      <td>7</td>\n",
       "      <td>3</td>\n",
       "      <td>7.00</td>\n",
       "    </tr>\n",
       "    <tr>\n",
       "      <td>1</td>\n",
       "      <td>Запустить собственную службу доставки, что сократит срок доставки заказов</td>\n",
       "      <td>2</td>\n",
       "      <td>5</td>\n",
       "      <td>4</td>\n",
       "      <td>10</td>\n",
       "      <td>2.00</td>\n",
       "    </tr>\n",
       "    <tr>\n",
       "      <td>5</td>\n",
       "      <td>Добавить страницу отзывов клиентов о магазине, что позволит увеличить количество заказов</td>\n",
       "      <td>3</td>\n",
       "      <td>2</td>\n",
       "      <td>2</td>\n",
       "      <td>3</td>\n",
       "      <td>1.33</td>\n",
       "    </tr>\n",
       "    <tr>\n",
       "      <td>3</td>\n",
       "      <td>Изменить структура категорий, что увеличит конверсию, т.к. пользователи быстрее найдут нужный товар</td>\n",
       "      <td>8</td>\n",
       "      <td>3</td>\n",
       "      <td>3</td>\n",
       "      <td>8</td>\n",
       "      <td>1.12</td>\n",
       "    </tr>\n",
       "    <tr>\n",
       "      <td>4</td>\n",
       "      <td>Изменить цвет фона главной страницы, чтобы увеличить вовлеченность пользователей</td>\n",
       "      <td>3</td>\n",
       "      <td>1</td>\n",
       "      <td>1</td>\n",
       "      <td>1</td>\n",
       "      <td>1.00</td>\n",
       "    </tr>\n",
       "  </tbody>\n",
       "</table>\n",
       "</div>"
      ],
      "text/plain": [
       "                                                                                                     hypothesis  \\\n",
       "8  Запустить акцию, дающую скидку на товар в день рождения                                                        \n",
       "0  Добавить два новых канала привлечения трафика, что позволит привлекать на 30% больше пользователей             \n",
       "7  Добавить форму подписки на все основные страницы, чтобы собрать базу клиентов для email-рассылок               \n",
       "6  Показать на главной странице баннеры с актуальными акциями и распродажами, чтобы увеличить конверсию           \n",
       "2  Добавить блоки рекомендаций товаров на сайт интернет магазина, чтобы повысить конверсию и средний чек заказа   \n",
       "1  Запустить собственную службу доставки, что сократит срок доставки заказов                                      \n",
       "5  Добавить страницу отзывов клиентов о магазине, что позволит увеличить количество заказов                       \n",
       "3  Изменить структура категорий, что увеличит конверсию, т.к. пользователи быстрее найдут нужный товар            \n",
       "4  Изменить цвет фона главной страницы, чтобы увеличить вовлеченность пользователей                               \n",
       "\n",
       "   reach  impact  confidence  efforts    ICE  \n",
       "8  1      9       9           5        16.20  \n",
       "0  3      10      8           6        13.33  \n",
       "7  10     7       8           5        11.20  \n",
       "6  5      3       8           3        8.00   \n",
       "2  8      3       7           3        7.00   \n",
       "1  2      5       4           10       2.00   \n",
       "5  3      2       2           3        1.33   \n",
       "3  8      3       3           8        1.12   \n",
       "4  3      1       1           1        1.00   "
      ]
     },
     "execution_count": 7,
     "metadata": {},
     "output_type": "execute_result"
    }
   ],
   "source": [
    "hypothesis['ICE'] = hypothesis['impact'] * hypothesis['confidence'] / hypothesis['efforts']\n",
    "\n",
    "#fix_1\n",
    "hypothesis.sort_values('ICE',ascending=False).round(2)"
   ]
  },
  {
   "cell_type": "markdown",
   "metadata": {},
   "source": [
    "<div class=\"alert alert-warning\">\n",
    "<b>Комментарии ревьюера</b>  \n",
    "    \n",
    "<s>Можно добавить округление параметра ICE до 2 знаков после запятой</s> Сделано!\n",
    "\n",
    "</div>"
   ]
  },
  {
   "cell_type": "code",
   "execution_count": 8,
   "metadata": {},
   "outputs": [
    {
     "data": {
      "image/png": "[encoded data removed]",
      "text/plain": [
       "<Figure size 432x288 with 1 Axes>"
      ]
     },
     "metadata": {
      "needs_background": "light"
     },
     "output_type": "display_data"
    }
   ],
   "source": [
    "def priotize(method):\n",
    "    ax = hypothesis[['hypothesis', method]].sort_values(method, ascending=True).plot(kind='barh')\n",
    "    ax.set_xlabel('Приоритет')\n",
    "    ax.set_ylabel('Гипотеза')\n",
    "    ax.set_title(method)\n",
    "    plt.show()\n",
    "priotize('ICE')"
   ]
  },
  {
   "cell_type": "code",
   "execution_count": 9,
   "metadata": {},
   "outputs": [
    {
     "data": {
      "text/html": [
       "<div>\n",
       "<style scoped>\n",
       "    .dataframe tbody tr th:only-of-type {\n",
       "        vertical-align: middle;\n",
       "    }\n",
       "\n",
       "    .dataframe tbody tr th {\n",
       "        vertical-align: top;\n",
       "    }\n",
       "\n",
       "    .dataframe thead th {\n",
       "        text-align: right;\n",
       "    }\n",
       "</style>\n",
       "<table border=\"1\" class=\"dataframe\">\n",
       "  <thead>\n",
       "    <tr style=\"text-align: right;\">\n",
       "      <th></th>\n",
       "      <th>hypothesis</th>\n",
       "      <th>reach</th>\n",
       "      <th>impact</th>\n",
       "      <th>confidence</th>\n",
       "      <th>efforts</th>\n",
       "      <th>ICE</th>\n",
       "      <th>RICE</th>\n",
       "    </tr>\n",
       "  </thead>\n",
       "  <tbody>\n",
       "    <tr>\n",
       "      <td>7</td>\n",
       "      <td>Добавить форму подписки на все основные страницы, чтобы собрать базу клиентов для email-рассылок</td>\n",
       "      <td>10</td>\n",
       "      <td>7</td>\n",
       "      <td>8</td>\n",
       "      <td>5</td>\n",
       "      <td>11.200000</td>\n",
       "      <td>112.0</td>\n",
       "    </tr>\n",
       "    <tr>\n",
       "      <td>2</td>\n",
       "      <td>Добавить блоки рекомендаций товаров на сайт интернет магазина, чтобы повысить конверсию и средний чек заказа</td>\n",
       "      <td>8</td>\n",
       "      <td>3</td>\n",
       "      <td>7</td>\n",
       "      <td>3</td>\n",
       "      <td>7.000000</td>\n",
       "      <td>56.0</td>\n",
       "    </tr>\n",
       "    <tr>\n",
       "      <td>0</td>\n",
       "      <td>Добавить два новых канала привлечения трафика, что позволит привлекать на 30% больше пользователей</td>\n",
       "      <td>3</td>\n",
       "      <td>10</td>\n",
       "      <td>8</td>\n",
       "      <td>6</td>\n",
       "      <td>13.333333</td>\n",
       "      <td>40.0</td>\n",
       "    </tr>\n",
       "    <tr>\n",
       "      <td>6</td>\n",
       "      <td>Показать на главной странице баннеры с актуальными акциями и распродажами, чтобы увеличить конверсию</td>\n",
       "      <td>5</td>\n",
       "      <td>3</td>\n",
       "      <td>8</td>\n",
       "      <td>3</td>\n",
       "      <td>8.000000</td>\n",
       "      <td>40.0</td>\n",
       "    </tr>\n",
       "    <tr>\n",
       "      <td>8</td>\n",
       "      <td>Запустить акцию, дающую скидку на товар в день рождения</td>\n",
       "      <td>1</td>\n",
       "      <td>9</td>\n",
       "      <td>9</td>\n",
       "      <td>5</td>\n",
       "      <td>16.200000</td>\n",
       "      <td>16.2</td>\n",
       "    </tr>\n",
       "    <tr>\n",
       "      <td>3</td>\n",
       "      <td>Изменить структура категорий, что увеличит конверсию, т.к. пользователи быстрее найдут нужный товар</td>\n",
       "      <td>8</td>\n",
       "      <td>3</td>\n",
       "      <td>3</td>\n",
       "      <td>8</td>\n",
       "      <td>1.125000</td>\n",
       "      <td>9.0</td>\n",
       "    </tr>\n",
       "    <tr>\n",
       "      <td>1</td>\n",
       "      <td>Запустить собственную службу доставки, что сократит срок доставки заказов</td>\n",
       "      <td>2</td>\n",
       "      <td>5</td>\n",
       "      <td>4</td>\n",
       "      <td>10</td>\n",
       "      <td>2.000000</td>\n",
       "      <td>4.0</td>\n",
       "    </tr>\n",
       "    <tr>\n",
       "      <td>5</td>\n",
       "      <td>Добавить страницу отзывов клиентов о магазине, что позволит увеличить количество заказов</td>\n",
       "      <td>3</td>\n",
       "      <td>2</td>\n",
       "      <td>2</td>\n",
       "      <td>3</td>\n",
       "      <td>1.333333</td>\n",
       "      <td>4.0</td>\n",
       "    </tr>\n",
       "    <tr>\n",
       "      <td>4</td>\n",
       "      <td>Изменить цвет фона главной страницы, чтобы увеличить вовлеченность пользователей</td>\n",
       "      <td>3</td>\n",
       "      <td>1</td>\n",
       "      <td>1</td>\n",
       "      <td>1</td>\n",
       "      <td>1.000000</td>\n",
       "      <td>3.0</td>\n",
       "    </tr>\n",
       "  </tbody>\n",
       "</table>\n",
       "</div>"
      ],
      "text/plain": [
       "                                                                                                     hypothesis  \\\n",
       "7  Добавить форму подписки на все основные страницы, чтобы собрать базу клиентов для email-рассылок               \n",
       "2  Добавить блоки рекомендаций товаров на сайт интернет магазина, чтобы повысить конверсию и средний чек заказа   \n",
       "0  Добавить два новых канала привлечения трафика, что позволит привлекать на 30% больше пользователей             \n",
       "6  Показать на главной странице баннеры с актуальными акциями и распродажами, чтобы увеличить конверсию           \n",
       "8  Запустить акцию, дающую скидку на товар в день рождения                                                        \n",
       "3  Изменить структура категорий, что увеличит конверсию, т.к. пользователи быстрее найдут нужный товар            \n",
       "1  Запустить собственную службу доставки, что сократит срок доставки заказов                                      \n",
       "5  Добавить страницу отзывов клиентов о магазине, что позволит увеличить количество заказов                       \n",
       "4  Изменить цвет фона главной страницы, чтобы увеличить вовлеченность пользователей                               \n",
       "\n",
       "   reach  impact  confidence  efforts        ICE   RICE  \n",
       "7  10     7       8           5        11.200000  112.0  \n",
       "2  8      3       7           3        7.000000   56.0   \n",
       "0  3      10      8           6        13.333333  40.0   \n",
       "6  5      3       8           3        8.000000   40.0   \n",
       "8  1      9       9           5        16.200000  16.2   \n",
       "3  8      3       3           8        1.125000   9.0    \n",
       "1  2      5       4           10       2.000000   4.0    \n",
       "5  3      2       2           3        1.333333   4.0    \n",
       "4  3      1       1           1        1.000000   3.0    "
      ]
     },
     "execution_count": 9,
     "metadata": {},
     "output_type": "execute_result"
    }
   ],
   "source": [
    "hypothesis['RICE'] = hypothesis['reach'] * hypothesis['impact'] * hypothesis['confidence'] / hypothesis['efforts']\n",
    "hypothesis.sort_values('RICE',ascending=False)"
   ]
  },
  {
   "cell_type": "code",
   "execution_count": 10,
   "metadata": {},
   "outputs": [
    {
     "data": {
      "image/png": "[encoded data removed]",
      "text/plain": [
       "<Figure size 432x288 with 1 Axes>"
      ]
     },
     "metadata": {
      "needs_background": "light"
     },
     "output_type": "display_data"
    }
   ],
   "source": [
    "priotize('RICE')"
   ]
  },
  {
   "cell_type": "markdown",
   "metadata": {},
   "source": [
    "### Вывод"
   ]
  },
  {
   "cell_type": "markdown",
   "metadata": {},
   "source": [
    "<b>Приоритизация</b>\n",
    "<table style=\"float:left;clear:both;display:block;\">\n",
    "  <thead>\n",
    "    <tr>\n",
    "      <td style=\"text-align: left;\"><b>ICE</b></td>\n",
    "      <td style=\"text-align: left;\"><b>RICE</b></td>\n",
    "    </tr>\n",
    "  </thead>\n",
    "  <tr>\t\n",
    "    <td style=\"text-align: left;\">8</td>\n",
    "    <td style=\"text-align: left;\">7</td>\n",
    "  </tr>    \n",
    "  <tr>\n",
    "    <td style=\"text-align: left;\">0</td>\n",
    "    <td style=\"text-align: left;\">2</td>\n",
    "  </tr>\n",
    "  <tr>\n",
    "    <td style=\"text-align: left;\">7</td>\n",
    "    <td style=\"text-align: left;\">0</td>\n",
    "  </tr>\n",
    "  <tr>\n",
    "    <td style=\"text-align: left;\">6</td>\n",
    "    <td style=\"text-align: left;\">6</td>\n",
    "  </tr>\n",
    "  <tr>\n",
    "    <td style=\"text-align: left;\">2</td>\n",
    "    <td style=\"text-align: left;\">8</td>\n",
    "  </tr>\n",
    "</table>\n",
    "<br>\n",
    "<br>\n",
    "<br>\n",
    "<br>\n",
    "<br>\n",
    "<br>\n",
    "<br>\n",
    "<br>\n",
    "<br>\n",
    "Приоритизация гипотез при применении RICE в отличии от ICE сильно отличается. Дело в том, что формулы разные, RICE учитывает параметр Reach (охват пользователей)."
   ]
  },
  {
   "cell_type": "markdown",
   "metadata": {},
   "source": [
    "<a id='step_4'></a>\n",
    "## 4. Анализ A/B-теста:"
   ]
  },
  {
   "cell_type": "markdown",
   "metadata": {},
   "source": [
    "<a id='step_41'></a>\n",
    "### 4.1 Кумулятивная выручка по группам"
   ]
  },
  {
   "cell_type": "code",
   "execution_count": 11,
   "metadata": {},
   "outputs": [
    {
     "data": {
      "text/html": [
       "<div>\n",
       "<style scoped>\n",
       "    .dataframe tbody tr th:only-of-type {\n",
       "        vertical-align: middle;\n",
       "    }\n",
       "\n",
       "    .dataframe tbody tr th {\n",
       "        vertical-align: top;\n",
       "    }\n",
       "\n",
       "    .dataframe thead th {\n",
       "        text-align: right;\n",
       "    }\n",
       "</style>\n",
       "<table border=\"1\" class=\"dataframe\">\n",
       "  <thead>\n",
       "    <tr style=\"text-align: right;\">\n",
       "      <th></th>\n",
       "      <th>transaction_id</th>\n",
       "      <th>visitor_id</th>\n",
       "      <th>date</th>\n",
       "      <th>revenue</th>\n",
       "      <th>group</th>\n",
       "    </tr>\n",
       "  </thead>\n",
       "  <tbody>\n",
       "    <tr>\n",
       "      <td>0</td>\n",
       "      <td>3667963787</td>\n",
       "      <td>3312258926</td>\n",
       "      <td>2019-08-15</td>\n",
       "      <td>1650</td>\n",
       "      <td>B</td>\n",
       "    </tr>\n",
       "    <tr>\n",
       "      <td>1</td>\n",
       "      <td>2804400009</td>\n",
       "      <td>3642806036</td>\n",
       "      <td>2019-08-15</td>\n",
       "      <td>730</td>\n",
       "      <td>B</td>\n",
       "    </tr>\n",
       "    <tr>\n",
       "      <td>2</td>\n",
       "      <td>2961555356</td>\n",
       "      <td>4069496402</td>\n",
       "      <td>2019-08-15</td>\n",
       "      <td>400</td>\n",
       "      <td>A</td>\n",
       "    </tr>\n",
       "    <tr>\n",
       "      <td>3</td>\n",
       "      <td>3797467345</td>\n",
       "      <td>1196621759</td>\n",
       "      <td>2019-08-15</td>\n",
       "      <td>9759</td>\n",
       "      <td>B</td>\n",
       "    </tr>\n",
       "    <tr>\n",
       "      <td>4</td>\n",
       "      <td>2282983706</td>\n",
       "      <td>2322279887</td>\n",
       "      <td>2019-08-15</td>\n",
       "      <td>2308</td>\n",
       "      <td>B</td>\n",
       "    </tr>\n",
       "  </tbody>\n",
       "</table>\n",
       "</div>"
      ],
      "text/plain": [
       "   transaction_id  visitor_id       date  revenue group\n",
       "0  3667963787      3312258926 2019-08-15  1650     B   \n",
       "1  2804400009      3642806036 2019-08-15  730      B   \n",
       "2  2961555356      4069496402 2019-08-15  400      A   \n",
       "3  3797467345      1196621759 2019-08-15  9759     B   \n",
       "4  2282983706      2322279887 2019-08-15  2308     B   "
      ]
     },
     "execution_count": 11,
     "metadata": {},
     "output_type": "execute_result"
    },
    {
     "data": {
      "text/html": [
       "<div>\n",
       "<style scoped>\n",
       "    .dataframe tbody tr th:only-of-type {\n",
       "        vertical-align: middle;\n",
       "    }\n",
       "\n",
       "    .dataframe tbody tr th {\n",
       "        vertical-align: top;\n",
       "    }\n",
       "\n",
       "    .dataframe thead th {\n",
       "        text-align: right;\n",
       "    }\n",
       "</style>\n",
       "<table border=\"1\" class=\"dataframe\">\n",
       "  <thead>\n",
       "    <tr style=\"text-align: right;\">\n",
       "      <th></th>\n",
       "      <th>date</th>\n",
       "      <th>group</th>\n",
       "      <th>visitors</th>\n",
       "    </tr>\n",
       "  </thead>\n",
       "  <tbody>\n",
       "    <tr>\n",
       "      <td>0</td>\n",
       "      <td>2019-08-01</td>\n",
       "      <td>A</td>\n",
       "      <td>719</td>\n",
       "    </tr>\n",
       "    <tr>\n",
       "      <td>1</td>\n",
       "      <td>2019-08-02</td>\n",
       "      <td>A</td>\n",
       "      <td>619</td>\n",
       "    </tr>\n",
       "    <tr>\n",
       "      <td>2</td>\n",
       "      <td>2019-08-03</td>\n",
       "      <td>A</td>\n",
       "      <td>507</td>\n",
       "    </tr>\n",
       "    <tr>\n",
       "      <td>3</td>\n",
       "      <td>2019-08-04</td>\n",
       "      <td>A</td>\n",
       "      <td>717</td>\n",
       "    </tr>\n",
       "    <tr>\n",
       "      <td>4</td>\n",
       "      <td>2019-08-05</td>\n",
       "      <td>A</td>\n",
       "      <td>756</td>\n",
       "    </tr>\n",
       "  </tbody>\n",
       "</table>\n",
       "</div>"
      ],
      "text/plain": [
       "        date group  visitors\n",
       "0 2019-08-01  A     719     \n",
       "1 2019-08-02  A     619     \n",
       "2 2019-08-03  A     507     \n",
       "3 2019-08-04  A     717     \n",
       "4 2019-08-05  A     756     "
      ]
     },
     "execution_count": 11,
     "metadata": {},
     "output_type": "execute_result"
    }
   ],
   "source": [
    "orders.head(5)\n",
    "visitors.head(5)"
   ]
  },
  {
   "cell_type": "code",
   "execution_count": 12,
   "metadata": {},
   "outputs": [],
   "source": [
    "datesGroups = pd.DataFrame(orders[['date','group']]).drop_duplicates()\n",
    "\n",
    "ordersAggregated  = datesGroups.apply(\n",
    "    lambda x: orders[np.logical_and(orders['date'] <= x['date'], orders['group'] == x['group'])].agg({\n",
    "    'date' : 'max',\n",
    "    'group' : 'max',\n",
    "    'transaction_id' : pd.Series.nunique,\n",
    "    'visitor_id' : pd.Series.nunique,\n",
    "    'revenue' : 'sum'}), axis=1).sort_values(by=['date','group'])\n",
    "\n",
    "visitorsAggregated = datesGroups.apply(\n",
    "    lambda x: visitors[np.logical_and(visitors['date'] <= x['date'], visitors['group'] == x['group'])].agg({\n",
    "    'date' : 'max', \n",
    "    'group' : 'max', \n",
    "    'visitors' : 'sum'}), axis=1).sort_values(by=['date','group']) "
   ]
  },
  {
   "cell_type": "code",
   "execution_count": 13,
   "metadata": {},
   "outputs": [
    {
     "data": {
      "text/html": [
       "<div>\n",
       "<style scoped>\n",
       "    .dataframe tbody tr th:only-of-type {\n",
       "        vertical-align: middle;\n",
       "    }\n",
       "\n",
       "    .dataframe tbody tr th {\n",
       "        vertical-align: top;\n",
       "    }\n",
       "\n",
       "    .dataframe thead th {\n",
       "        text-align: right;\n",
       "    }\n",
       "</style>\n",
       "<table border=\"1\" class=\"dataframe\">\n",
       "  <thead>\n",
       "    <tr style=\"text-align: right;\">\n",
       "      <th></th>\n",
       "      <th>date</th>\n",
       "      <th>group</th>\n",
       "      <th>orders</th>\n",
       "      <th>buyers</th>\n",
       "      <th>revenue</th>\n",
       "      <th>visitors</th>\n",
       "    </tr>\n",
       "  </thead>\n",
       "  <tbody>\n",
       "    <tr>\n",
       "      <td>0</td>\n",
       "      <td>2019-08-01</td>\n",
       "      <td>A</td>\n",
       "      <td>24</td>\n",
       "      <td>20</td>\n",
       "      <td>148579</td>\n",
       "      <td>719</td>\n",
       "    </tr>\n",
       "    <tr>\n",
       "      <td>1</td>\n",
       "      <td>2019-08-01</td>\n",
       "      <td>B</td>\n",
       "      <td>21</td>\n",
       "      <td>20</td>\n",
       "      <td>101217</td>\n",
       "      <td>713</td>\n",
       "    </tr>\n",
       "    <tr>\n",
       "      <td>2</td>\n",
       "      <td>2019-08-02</td>\n",
       "      <td>A</td>\n",
       "      <td>44</td>\n",
       "      <td>38</td>\n",
       "      <td>242401</td>\n",
       "      <td>1338</td>\n",
       "    </tr>\n",
       "    <tr>\n",
       "      <td>3</td>\n",
       "      <td>2019-08-02</td>\n",
       "      <td>B</td>\n",
       "      <td>45</td>\n",
       "      <td>43</td>\n",
       "      <td>266748</td>\n",
       "      <td>1294</td>\n",
       "    </tr>\n",
       "    <tr>\n",
       "      <td>4</td>\n",
       "      <td>2019-08-03</td>\n",
       "      <td>A</td>\n",
       "      <td>68</td>\n",
       "      <td>62</td>\n",
       "      <td>354874</td>\n",
       "      <td>1845</td>\n",
       "    </tr>\n",
       "  </tbody>\n",
       "</table>\n",
       "</div>"
      ],
      "text/plain": [
       "        date group  orders  buyers  revenue  visitors\n",
       "0 2019-08-01  A     24      20      148579   719     \n",
       "1 2019-08-01  B     21      20      101217   713     \n",
       "2 2019-08-02  A     44      38      242401   1338    \n",
       "3 2019-08-02  B     45      43      266748   1294    \n",
       "4 2019-08-03  A     68      62      354874   1845    "
      ]
     },
     "execution_count": 13,
     "metadata": {},
     "output_type": "execute_result"
    }
   ],
   "source": [
    "cumulativeData = ordersAggregated.merge(visitorsAggregated, left_on=['date', 'group'], right_on=['date', 'group'])\n",
    "cumulativeData.columns = ['date', 'group', 'orders', 'buyers', 'revenue', 'visitors']\n",
    "cumulativeData.head(5)"
   ]
  },
  {
   "cell_type": "code",
   "execution_count": 14,
   "metadata": {},
   "outputs": [
    {
     "data": {
      "image/png": "[encoded data removed]",
      "text/plain": [
       "<Figure size 1296x432 with 1 Axes>"
      ]
     },
     "metadata": {
      "needs_background": "light"
     },
     "output_type": "display_data"
    }
   ],
   "source": [
    "figure(figsize=(18, 6))\n",
    "\n",
    "#Устранил предупреждение при выводе данных\n",
    "pd.plotting.register_matplotlib_converters()\n",
    "\n",
    "# датафрейм с кумулятивным количеством заказов и кумулятивной выручкой по дням в группе А\n",
    "cumulativeRevenueA = cumulativeData[cumulativeData['group']=='A'][['date','revenue', 'orders']]\n",
    "\n",
    "# датафрейм с кумулятивным количеством заказов и кумулятивной выручкой по дням в группе B\n",
    "cumulativeRevenueB = cumulativeData[cumulativeData['group']=='B'][['date','revenue', 'orders']]\n",
    "\n",
    "# Строим график выручки группы А\n",
    "plt.plot(cumulativeRevenueA['date'], cumulativeRevenueA['revenue'], label='A')\n",
    "\n",
    "# Строим график выручки группы B\n",
    "plt.plot(cumulativeRevenueB['date'], cumulativeRevenueB['revenue'], label='B')\n",
    "plt.title('График кумулятивной выручки по группам')\n",
    "plt.ylabel(\"Выручка\")\n",
    "plt.plot(figsize=(16,8))\n",
    "#fix_2\n",
    "plt.xlabel(\"Дни\")\n",
    "plt.legend();"
   ]
  },
  {
   "cell_type": "markdown",
   "metadata": {},
   "source": [
    "В период с 18.09.19 по 19.09.19 резкий скачок похожий на выброс. Выручка группы B выше чем у A, даже несмотря на скачок. Графики растут линейно и не стабилизровались под конец периода. Это говорит о том, что нужно больше данных, чтобы прийти к реальному среднему значению."
   ]
  },
  {
   "cell_type": "markdown",
   "metadata": {},
   "source": [
    "<a id='step_42'></a>\n",
    "### 4.2 Кумулятивный средний чек по группам"
   ]
  },
  {
   "cell_type": "code",
   "execution_count": 15,
   "metadata": {},
   "outputs": [
    {
     "data": {
      "image/png": "[encoded data removed]",
      "text/plain": [
       "<Figure size 1296x432 with 1 Axes>"
      ]
     },
     "metadata": {
      "needs_background": "light"
     },
     "output_type": "display_data"
    }
   ],
   "source": [
    "figure(figsize=(18, 6))\n",
    "\n",
    "plt.plot(cumulativeRevenueA['date'], cumulativeRevenueA['revenue']/cumulativeRevenueA['orders'], label='A')\n",
    "plt.plot(cumulativeRevenueB['date'], cumulativeRevenueB['revenue']/cumulativeRevenueB['orders'], label='B')\n",
    "\n",
    "#fix_2\n",
    "plt.ylabel(\"Средний чек\")\n",
    "plt.xlabel(\"Дни\")\n",
    "plt.title('График относительного изменения кумулятивного среднего чека группы B к группе A')\n",
    "plt.legend();"
   ]
  },
  {
   "cell_type": "markdown",
   "metadata": {},
   "source": [
    "На этом графике тот же самый скачок."
   ]
  },
  {
   "cell_type": "markdown",
   "metadata": {},
   "source": [
    "<a id='step_43'></a>\n",
    "### 4.3 Относительное изменение кумулятивного среднего чека группы B к группе A"
   ]
  },
  {
   "cell_type": "code",
   "execution_count": 1,
   "metadata": {},
   "outputs": [
    {
     "ename": "NameError",
     "evalue": "name 'figure' is not defined",
     "output_type": "error",
     "traceback": [
      "\u001b[0;31m---------------------------------------------------------------------------\u001b[0m",
      "\u001b[0;31mNameError\u001b[0m                                 Traceback (most recent call last)",
      "\u001b[0;32m<ipython-input-1-9cfa9b10e055>\u001b[0m in \u001b[0;36m<module>\u001b[0;34m\u001b[0m\n\u001b[0;32m----> 1\u001b[0;31m \u001b[0mfigure\u001b[0m\u001b[0;34m(\u001b[0m\u001b[0mfigsize\u001b[0m\u001b[0;34m=\u001b[0m\u001b[0;34m(\u001b[0m\u001b[0;36m18\u001b[0m\u001b[0;34m,\u001b[0m \u001b[0;36m6\u001b[0m\u001b[0;34m)\u001b[0m\u001b[0;34m)\u001b[0m\u001b[0;34m\u001b[0m\u001b[0;34m\u001b[0m\u001b[0m\n\u001b[0m\u001b[1;32m      2\u001b[0m \u001b[0;34m\u001b[0m\u001b[0m\n\u001b[1;32m      3\u001b[0m \u001b[0;31m# собираем данные в одном датафрейме\u001b[0m\u001b[0;34m\u001b[0m\u001b[0;34m\u001b[0m\u001b[0;34m\u001b[0m\u001b[0m\n\u001b[1;32m      4\u001b[0m mergedCumRevenue = cumulativeRevenueA.merge(\n\u001b[1;32m      5\u001b[0m     \u001b[0mcumulativeRevenueB\u001b[0m\u001b[0;34m,\u001b[0m\u001b[0;34m\u001b[0m\u001b[0;34m\u001b[0m\u001b[0m\n",
      "\u001b[0;31mNameError\u001b[0m: name 'figure' is not defined"
     ]
    }
   ],
   "source": [
    "figure(figsize=(18, 6))\n",
    "\n",
    "# собираем данные в одном датафрейме\n",
    "mergedCumRevenue = cumulativeRevenueA.merge(\n",
    "    cumulativeRevenueB, \n",
    "    left_on='date', \n",
    "    right_on='date', \n",
    "    how='left', \n",
    "    suffixes=['A', 'B'])\n",
    "\n",
    "# cтроим отношение средних чеков\n",
    "plt.plot(mergedCumRevenue['date'],\n",
    "         (mergedCumRevenue['revenueB']/mergedCumRevenue['ordersB'])\\\n",
    "         /(mergedCumRevenue['revenueA']/mergedCumRevenue['ordersA'])-1);\n",
    "\n",
    "plt.title('График относительного изменения кумулятивного среднего чека группы B к группе A')\n",
    "\n",
    "# добавляем ось X\n",
    "plt.axhline(y=0, color='black', linestyle='--');#fix_2"
   ]
  },
  {
   "cell_type": "markdown",
   "metadata": {},
   "source": [
    "Скачок виден и здесь."
   ]
  },
  {
   "cell_type": "markdown",
   "metadata": {},
   "source": [
    "<a id='step_44'></a>\n",
    "### 4.4 Кумулятивная конверсия по группам"
   ]
  },
  {
   "cell_type": "code",
   "execution_count": 17,
   "metadata": {},
   "outputs": [
    {
     "data": {
      "image/png": "[encoded data removed]",
      "text/plain": [
       "<Figure size 1296x432 with 1 Axes>"
      ]
     },
     "metadata": {
      "needs_background": "light"
     },
     "output_type": "display_data"
    }
   ],
   "source": [
    "# считаем кумулятивную конверсию\n",
    "figure(figsize=(18, 6))\n",
    "cumulativeData['conversion'] = cumulativeData['orders']/cumulativeData['visitors']\n",
    "\n",
    "# отделяем данные по группе A\n",
    "cumulativeDataA = cumulativeData[cumulativeData['group']=='A']\n",
    "\n",
    "# отделяем данные по группе B\n",
    "cumulativeDataB = cumulativeData[cumulativeData['group']=='B']\n",
    "\n",
    "# строим графики\n",
    "plt.plot(cumulativeDataA['date'], cumulativeDataA['conversion'], label='A')\n",
    "plt.plot(cumulativeDataB['date'], cumulativeDataB['conversion'], label='B')\n",
    "\n",
    "plt.title('График кумулятивной конверсии по группам')\n",
    "plt.ylabel(\"Выручка\")\n",
    "plt.xlabel(\"Дни\")\n",
    "plt.axhline(y=0.036, color='orange', linestyle='--')\n",
    "plt.axhline(y=0.033, color='orange', linestyle='--') \n",
    "plt.axhline(y=0.031, color='blue', linestyle='--')\n",
    "plt.axhline(y=0.029, color='blue', linestyle='--')\n",
    "plt.legend();#fix_2"
   ]
  },
  {
   "cell_type": "markdown",
   "metadata": {},
   "source": [
    "После скачков выручка обоих групп в пределах 3 делений, у B от 0.033 до 0.036, а у А от 0.029 до 0.031."
   ]
  },
  {
   "cell_type": "markdown",
   "metadata": {},
   "source": [
    "<a id='step_45'></a>\n",
    "### 4.5 Относительное изменение кумулятивной конверсии группы B к группе A"
   ]
  },
  {
   "cell_type": "code",
   "execution_count": 18,
   "metadata": {},
   "outputs": [
    {
     "data": {
      "image/png": "[encoded data removed]",
      "text/plain": [
       "<Figure size 1296x432 with 1 Axes>"
      ]
     },
     "metadata": {
      "needs_background": "light"
     },
     "output_type": "display_data"
    }
   ],
   "source": [
    "figure(figsize=(18, 6))\n",
    "\n",
    "mergedCumulativeConversions = cumulativeDataA[['date','conversion']]\\\n",
    "    .merge(cumulativeDataB[['date','conversion']], left_on='date', right_on='date', how='left', suffixes=['A', 'B'])\n",
    "\n",
    "plt.plot(mergedCumulativeConversions['date'], \n",
    "         mergedCumulativeConversions['conversionB']/mergedCumulativeConversions['conversionA']-1,\n",
    "         label=\"Относительный прирост конверсии группы B относительно группы A\")\n",
    "\n",
    "plt.title('График относительного изменения кумулятивной конверсии группы B к группе A')\n",
    "plt.axhline(y=0, color='black', linestyle='--')\n",
    "plt.legend();#fix_2"
   ]
  },
  {
   "cell_type": "markdown",
   "metadata": {},
   "source": [
    "### Вывод"
   ]
  },
  {
   "cell_type": "markdown",
   "metadata": {},
   "source": [
    "В начале теста группа B значительно проигрывала группе A, затем вырвалась вперёд. Все три графика демонстрируют скачок в период с 18.09.19 по 19.09.19. Нужно проверить выбросы. Графики растут линейно. Данных в целом мало, поэтому графики не стабилизировались, нужно большей значений."
   ]
  },
  {
   "cell_type": "markdown",
   "metadata": {},
   "source": [
    "## Точечные графики"
   ]
  },
  {
   "cell_type": "markdown",
   "metadata": {},
   "source": [
    "<a id='step_51'></a>\n",
    "### 5.1 Точечный график количества заказов по пользователям"
   ]
  },
  {
   "cell_type": "code",
   "execution_count": 19,
   "metadata": {},
   "outputs": [
    {
     "data": {
      "text/html": [
       "<div>\n",
       "<style scoped>\n",
       "    .dataframe tbody tr th:only-of-type {\n",
       "        vertical-align: middle;\n",
       "    }\n",
       "\n",
       "    .dataframe tbody tr th {\n",
       "        vertical-align: top;\n",
       "    }\n",
       "\n",
       "    .dataframe thead th {\n",
       "        text-align: right;\n",
       "    }\n",
       "</style>\n",
       "<table border=\"1\" class=\"dataframe\">\n",
       "  <thead>\n",
       "    <tr style=\"text-align: right;\">\n",
       "      <th></th>\n",
       "      <th>visitor_id</th>\n",
       "      <th>orders</th>\n",
       "    </tr>\n",
       "  </thead>\n",
       "  <tbody>\n",
       "    <tr>\n",
       "      <td>1023</td>\n",
       "      <td>4256040402</td>\n",
       "      <td>11</td>\n",
       "    </tr>\n",
       "    <tr>\n",
       "      <td>591</td>\n",
       "      <td>2458001652</td>\n",
       "      <td>11</td>\n",
       "    </tr>\n",
       "    <tr>\n",
       "      <td>569</td>\n",
       "      <td>2378935119</td>\n",
       "      <td>9</td>\n",
       "    </tr>\n",
       "    <tr>\n",
       "      <td>487</td>\n",
       "      <td>2038680547</td>\n",
       "      <td>8</td>\n",
       "    </tr>\n",
       "    <tr>\n",
       "      <td>44</td>\n",
       "      <td>199603092</td>\n",
       "      <td>5</td>\n",
       "    </tr>\n",
       "    <tr>\n",
       "      <td>744</td>\n",
       "      <td>3062433592</td>\n",
       "      <td>5</td>\n",
       "    </tr>\n",
       "    <tr>\n",
       "      <td>55</td>\n",
       "      <td>237748145</td>\n",
       "      <td>5</td>\n",
       "    </tr>\n",
       "    <tr>\n",
       "      <td>917</td>\n",
       "      <td>3803269165</td>\n",
       "      <td>5</td>\n",
       "    </tr>\n",
       "    <tr>\n",
       "      <td>299</td>\n",
       "      <td>1230306981</td>\n",
       "      <td>5</td>\n",
       "    </tr>\n",
       "    <tr>\n",
       "      <td>897</td>\n",
       "      <td>3717692402</td>\n",
       "      <td>5</td>\n",
       "    </tr>\n",
       "  </tbody>\n",
       "</table>\n",
       "</div>"
      ],
      "text/plain": [
       "      visitor_id  orders\n",
       "1023  4256040402  11    \n",
       "591   2458001652  11    \n",
       "569   2378935119  9     \n",
       "487   2038680547  8     \n",
       "44    199603092   5     \n",
       "744   3062433592  5     \n",
       "55    237748145   5     \n",
       "917   3803269165  5     \n",
       "299   1230306981  5     \n",
       "897   3717692402  5     "
      ]
     },
     "execution_count": 19,
     "metadata": {},
     "output_type": "execute_result"
    }
   ],
   "source": [
    "ordersByUsers = orders.drop(['group', 'revenue', 'date'], axis=1)\\\n",
    "    .groupby('visitor_id', as_index=False)\\\n",
    "    .agg({'transaction_id' : pd.Series.nunique})\n",
    "ordersByUsers.columns = ['visitor_id','orders']\n",
    "\n",
    "ordersByUsers.sort_values(by='orders',ascending=False).head(10)"
   ]
  },
  {
   "cell_type": "code",
   "execution_count": 87,
   "metadata": {},
   "outputs": [
    {
     "data": {
      "image/png": "[encoded data removed]",
      "text/plain": [
       "<Figure size 1296x432 with 1 Axes>"
      ]
     },
     "metadata": {
      "needs_background": "light"
     },
     "output_type": "display_data"
    }
   ],
   "source": [
    "figure(figsize=(18, 6))\n",
    "plt.hist(ordersByUsers['orders']) \n",
    "\n",
    "#fix_2\n",
    "plt.ylabel(\"Кол-во пользователей\")\n",
    "plt.xlabel(\"Кол-во заказов\");"
   ]
  },
  {
   "cell_type": "code",
   "execution_count": 88,
   "metadata": {},
   "outputs": [
    {
     "data": {
      "image/png": "[encoded data removed]",
      "text/plain": [
       "<Figure size 1296x432 with 1 Axes>"
      ]
     },
     "metadata": {
      "needs_background": "light"
     },
     "output_type": "display_data"
    }
   ],
   "source": [
    "figure(figsize=(18, 6))\n",
    "# серия из чисел от 0 до количества наблюдений в ordersByUsers\n",
    "x_values = pd.Series(range(0,len(ordersByUsers)))\n",
    "\n",
    "#fix_2\n",
    "plt.ylabel(\"Кол-во заказов\")\n",
    "plt.xlabel(\"Кол-во пользователей\");\n",
    "plt.scatter(x_values, ordersByUsers['orders']);"
   ]
  },
  {
   "cell_type": "markdown",
   "metadata": {},
   "source": [
    "Подавляющее большинство пользователей покупают 1 раз, но так же есть и покупатели, кто делает покупки периодически. Всё что выше 4 аномально."
   ]
  },
  {
   "cell_type": "markdown",
   "metadata": {},
   "source": [
    "<a id='step_52'></a>\n",
    "### 5.2 Перцентили количества заказов на пользователя"
   ]
  },
  {
   "cell_type": "code",
   "execution_count": 22,
   "metadata": {},
   "outputs": [
    {
     "name": "stdout",
     "output_type": "stream",
     "text": [
      "[1.00 2.00 4.00]\n"
     ]
    }
   ],
   "source": [
    "# Метод np.percentile('column', [percentile1, percentile2, percentile3]) находит перцентили.\n",
    "print(np.percentile(ordersByUsers['orders'], [90, 95, 99])) \n"
   ]
  },
  {
   "cell_type": "markdown",
   "metadata": {},
   "source": [
    "Значения больше 99 перцентиля аномальны."
   ]
  },
  {
   "cell_type": "markdown",
   "metadata": {},
   "source": [
    "<a id='step_53'></a>\n",
    "### 5.3 Точечный график стоимостей заказов"
   ]
  },
  {
   "cell_type": "code",
   "execution_count": 89,
   "metadata": {},
   "outputs": [
    {
     "data": {
      "image/png": "[encoded data removed]",
      "text/plain": [
       "<Figure size 1296x432 with 1 Axes>"
      ]
     },
     "metadata": {
      "needs_background": "light"
     },
     "output_type": "display_data"
    }
   ],
   "source": [
    "figure(figsize=(18, 6))\n",
    "#fix_4\n",
    "plt.hist(orders['revenue'])\n",
    "plt.ylabel(\"Кол-во пользователей\")\n",
    "plt.xlabel(\"Сумма заказа\");"
   ]
  },
  {
   "cell_type": "code",
   "execution_count": 90,
   "metadata": {},
   "outputs": [
    {
     "data": {
      "image/png": "[encoded data removed]",
      "text/plain": [
       "<Figure size 1296x432 with 1 Axes>"
      ]
     },
     "metadata": {
      "needs_background": "light"
     },
     "output_type": "display_data"
    }
   ],
   "source": [
    "figure(figsize=(18, 6))\n",
    "x_values = pd.Series(range(0,len(orders['revenue'])))\n",
    "\n",
    "plt.ylabel(\"Кол-во пользователей\")\n",
    "plt.xlabel(\"Сумма заказа\")\n",
    "plt.scatter(x_values, orders['revenue']);"
   ]
  },
  {
   "cell_type": "markdown",
   "metadata": {},
   "source": [
    "Видны два выброса."
   ]
  },
  {
   "cell_type": "markdown",
   "metadata": {},
   "source": [
    "<a id='step_54'></a>\n",
    "### 5.4 Перцентили стоимости заказов"
   ]
  },
  {
   "cell_type": "code",
   "execution_count": 25,
   "metadata": {},
   "outputs": [
    {
     "name": "stdout",
     "output_type": "stream",
     "text": [
      "[18168.00 28000.00 58233.20]\n"
     ]
    }
   ],
   "source": [
    "print(np.percentile(orders['revenue'], [90, 95, 99])) "
   ]
  },
  {
   "cell_type": "markdown",
   "metadata": {},
   "source": [
    "Не более, чем у 5% заказов чек дороже 28000. И не больше, чем у 1% заказов — дороже 58233. Всё, что больше 58233 можно считать аномальным. "
   ]
  },
  {
   "cell_type": "markdown",
   "metadata": {},
   "source": [
    "### Вывод"
   ]
  },
  {
   "cell_type": "markdown",
   "metadata": {},
   "source": [
    "Нашел 1% аномалий: у количества заказов это всё, что больше 4 заказов, а у стоимости - всё, что дороже 58233."
   ]
  },
  {
   "cell_type": "markdown",
   "metadata": {},
   "source": [
    "<a id='step_6'></a>\n",
    "## 6. Проверка гипотез"
   ]
  },
  {
   "cell_type": "markdown",
   "metadata": {},
   "source": [
    "<a id='step_61'></a>\n",
    "### 6.1 Статистическая значимость различий в конверсии между группами"
   ]
  },
  {
   "cell_type": "code",
   "execution_count": 43,
   "metadata": {},
   "outputs": [
    {
     "data": {
      "text/html": [
       "<div>\n",
       "<style scoped>\n",
       "    .dataframe tbody tr th:only-of-type {\n",
       "        vertical-align: middle;\n",
       "    }\n",
       "\n",
       "    .dataframe tbody tr th {\n",
       "        vertical-align: top;\n",
       "    }\n",
       "\n",
       "    .dataframe thead th {\n",
       "        text-align: right;\n",
       "    }\n",
       "</style>\n",
       "<table border=\"1\" class=\"dataframe\">\n",
       "  <thead>\n",
       "    <tr style=\"text-align: right;\">\n",
       "      <th></th>\n",
       "      <th>date</th>\n",
       "      <th>ordersPerDateA</th>\n",
       "      <th>revenuePerDateA</th>\n",
       "      <th>ordersPerDateB</th>\n",
       "      <th>revenuePerDateB</th>\n",
       "      <th>ordersCummulativeA</th>\n",
       "      <th>revenueCummulativeA</th>\n",
       "      <th>ordersCummulativeB</th>\n",
       "      <th>revenueCummulativeB</th>\n",
       "      <th>visitorsPerDateA</th>\n",
       "      <th>visitorsPerDateB</th>\n",
       "      <th>visitorsCummulativeA</th>\n",
       "      <th>visitorsCummulativeB</th>\n",
       "    </tr>\n",
       "  </thead>\n",
       "  <tbody>\n",
       "    <tr>\n",
       "      <td>0</td>\n",
       "      <td>2019-08-01</td>\n",
       "      <td>20</td>\n",
       "      <td>148579</td>\n",
       "      <td>20</td>\n",
       "      <td>101217</td>\n",
       "      <td>20</td>\n",
       "      <td>148579</td>\n",
       "      <td>20</td>\n",
       "      <td>101217</td>\n",
       "      <td>719</td>\n",
       "      <td>713</td>\n",
       "      <td>719</td>\n",
       "      <td>713</td>\n",
       "    </tr>\n",
       "    <tr>\n",
       "      <td>1</td>\n",
       "      <td>2019-08-02</td>\n",
       "      <td>19</td>\n",
       "      <td>93822</td>\n",
       "      <td>23</td>\n",
       "      <td>165531</td>\n",
       "      <td>39</td>\n",
       "      <td>242401</td>\n",
       "      <td>43</td>\n",
       "      <td>266748</td>\n",
       "      <td>619</td>\n",
       "      <td>581</td>\n",
       "      <td>1338</td>\n",
       "      <td>1294</td>\n",
       "    </tr>\n",
       "    <tr>\n",
       "      <td>2</td>\n",
       "      <td>2019-08-03</td>\n",
       "      <td>24</td>\n",
       "      <td>112473</td>\n",
       "      <td>16</td>\n",
       "      <td>114248</td>\n",
       "      <td>63</td>\n",
       "      <td>354874</td>\n",
       "      <td>59</td>\n",
       "      <td>380996</td>\n",
       "      <td>507</td>\n",
       "      <td>509</td>\n",
       "      <td>1845</td>\n",
       "      <td>1803</td>\n",
       "    </tr>\n",
       "    <tr>\n",
       "      <td>3</td>\n",
       "      <td>2019-08-04</td>\n",
       "      <td>15</td>\n",
       "      <td>70825</td>\n",
       "      <td>16</td>\n",
       "      <td>108571</td>\n",
       "      <td>78</td>\n",
       "      <td>425699</td>\n",
       "      <td>75</td>\n",
       "      <td>489567</td>\n",
       "      <td>717</td>\n",
       "      <td>770</td>\n",
       "      <td>2562</td>\n",
       "      <td>2573</td>\n",
       "    </tr>\n",
       "    <tr>\n",
       "      <td>4</td>\n",
       "      <td>2019-08-05</td>\n",
       "      <td>25</td>\n",
       "      <td>124218</td>\n",
       "      <td>23</td>\n",
       "      <td>92428</td>\n",
       "      <td>103</td>\n",
       "      <td>549917</td>\n",
       "      <td>98</td>\n",
       "      <td>581995</td>\n",
       "      <td>756</td>\n",
       "      <td>707</td>\n",
       "      <td>3318</td>\n",
       "      <td>3280</td>\n",
       "    </tr>\n",
       "  </tbody>\n",
       "</table>\n",
       "</div>"
      ],
      "text/plain": [
       "        date  ordersPerDateA  revenuePerDateA  ordersPerDateB  \\\n",
       "0 2019-08-01  20              148579           20               \n",
       "1 2019-08-02  19              93822            23               \n",
       "2 2019-08-03  24              112473           16               \n",
       "3 2019-08-04  15              70825            16               \n",
       "4 2019-08-05  25              124218           23               \n",
       "\n",
       "   revenuePerDateB  ordersCummulativeA  revenueCummulativeA  \\\n",
       "0  101217           20                  148579                \n",
       "1  165531           39                  242401                \n",
       "2  114248           63                  354874                \n",
       "3  108571           78                  425699                \n",
       "4  92428            103                 549917                \n",
       "\n",
       "   ordersCummulativeB  revenueCummulativeB  visitorsPerDateA  \\\n",
       "0  20                  101217               719                \n",
       "1  43                  266748               619                \n",
       "2  59                  380996               507                \n",
       "3  75                  489567               717                \n",
       "4  98                  581995               756                \n",
       "\n",
       "   visitorsPerDateB  visitorsCummulativeA  visitorsCummulativeB  \n",
       "0  713               719                   713                   \n",
       "1  581               1338                  1294                  \n",
       "2  509               1845                  1803                  \n",
       "3  770               2562                  2573                  \n",
       "4  707               3318                  3280                  "
      ]
     },
     "execution_count": 43,
     "metadata": {},
     "output_type": "execute_result"
    }
   ],
   "source": [
    "import scipy.stats as stats\n",
    "from scipy import stats as st\n",
    "\n",
    "visitorsADaily = visitors[visitors['group']=='A'][['date', 'visitors']]\n",
    "visitorsADaily.columns = ['date', 'visitorsPerDateA']\n",
    "\n",
    "visitorsACummulative = visitorsADaily.apply(\n",
    "    lambda x: visitorsADaily[visitorsADaily['date'] <= x['date']].agg(\n",
    "        {'date' : 'max',\n",
    "         'visitorsPerDateA' : 'sum'}),\n",
    "    axis=1)\n",
    "visitorsACummulative.columns = ['date', 'visitorsCummulativeA']\n",
    "\n",
    "visitorsBDaily = visitors[visitors['group']=='B'][['date', 'visitors']]\n",
    "visitorsBDaily.columns = ['date', 'visitorsPerDateB']\n",
    "\n",
    "visitorsBCummulative = visitorsBDaily.apply(\n",
    "    lambda x: visitorsBDaily[visitorsBDaily['date'] <= x['date']].agg(\n",
    "        {'date' : 'max',\n",
    "         'visitorsPerDateB' : 'sum'}),\n",
    "    axis=1)\n",
    "visitorsBCummulative.columns = ['date', 'visitorsCummulativeB']\n",
    "\n",
    "ordersADaily = orders[orders['group']=='A'][['date', 'transaction_id', 'visitor_id', 'revenue']]\\\n",
    "    .groupby('date', as_index=False)\\\n",
    "    .agg({'visitor_id' : pd.Series.nunique, 'revenue' : 'sum'})\n",
    "ordersADaily.columns = ['date', 'ordersPerDateA', 'revenuePerDateA']\n",
    "\n",
    "ordersACummulative = ordersADaily.apply(\n",
    "    lambda x: \\\n",
    "        ordersADaily[ordersADaily['date'] <= x['date']]\\\n",
    "            .agg({\n",
    "                'date' : 'max',\n",
    "                'ordersPerDateA' : 'sum',\n",
    "                'revenuePerDateA' : 'sum'}), axis=1).sort_values(by=['date'])\n",
    "ordersACummulative.columns = ['date', 'ordersCummulativeA', 'revenueCummulativeA']\n",
    "\n",
    "ordersBDaily = orders[orders['group']=='B'][['date', 'transaction_id', 'visitor_id', 'revenue']]\\\n",
    "    .groupby('date', as_index=False)\\\n",
    "    .agg({'visitor_id' : pd.Series.nunique, 'revenue' : 'sum'})\n",
    "ordersBDaily.columns = ['date', 'ordersPerDateB', 'revenuePerDateB']\n",
    "\n",
    "ordersBCummulative = ordersBDaily.apply(\n",
    "    lambda x: \\\n",
    "        ordersBDaily[ordersBDaily['date'] <= x['date']]\\\n",
    "            .agg({\n",
    "                'date' : 'max',\n",
    "                'ordersPerDateB' : 'sum',\n",
    "                'revenuePerDateB' : 'sum'}), axis=1).sort_values(by=['date'])\n",
    "ordersBCummulative.columns = ['date', 'ordersCummulativeB', 'revenueCummulativeB']\n",
    "\n",
    "data = ordersADaily.merge(ordersBDaily, left_on='date', right_on='date', how='left')\\\n",
    "    .merge(ordersACummulative, left_on='date', right_on='date', how='left')\\\n",
    "    .merge(ordersBCummulative, left_on='date', right_on='date', how='left')\\\n",
    "    .merge(visitorsADaily, left_on='date', right_on='date', how='left')\\\n",
    "    .merge(visitorsBDaily, left_on='date', right_on='date', how='left')\\\n",
    "    .merge(visitorsACummulative, left_on='date', right_on='date', how='left')\\\n",
    "    .merge(visitorsBCummulative, left_on='date', right_on='date', how='left')\n",
    "\n",
    "data.head(5)"
   ]
  },
  {
   "cell_type": "code",
   "execution_count": 41,
   "metadata": {},
   "outputs": [
    {
     "data": {
      "text/html": [
       "<div>\n",
       "<style scoped>\n",
       "    .dataframe tbody tr th:only-of-type {\n",
       "        vertical-align: middle;\n",
       "    }\n",
       "\n",
       "    .dataframe tbody tr th {\n",
       "        vertical-align: top;\n",
       "    }\n",
       "\n",
       "    .dataframe thead th {\n",
       "        text-align: right;\n",
       "    }\n",
       "</style>\n",
       "<table border=\"1\" class=\"dataframe\">\n",
       "  <thead>\n",
       "    <tr style=\"text-align: right;\">\n",
       "      <th></th>\n",
       "      <th>group</th>\n",
       "      <th>orders</th>\n",
       "      <th>visitors</th>\n",
       "      <th>conversion</th>\n",
       "    </tr>\n",
       "  </thead>\n",
       "  <tbody>\n",
       "    <tr>\n",
       "      <td>0</td>\n",
       "      <td>A</td>\n",
       "      <td>557</td>\n",
       "      <td>18736</td>\n",
       "      <td>0.029729</td>\n",
       "    </tr>\n",
       "    <tr>\n",
       "      <td>1</td>\n",
       "      <td>B</td>\n",
       "      <td>640</td>\n",
       "      <td>18916</td>\n",
       "      <td>0.033834</td>\n",
       "    </tr>\n",
       "  </tbody>\n",
       "</table>\n",
       "</div>"
      ],
      "text/plain": [
       "  group  orders  visitors  conversion\n",
       "0  A     557     18736     0.029729  \n",
       "1  B     640     18916     0.033834  "
      ]
     },
     "execution_count": 41,
     "metadata": {},
     "output_type": "execute_result"
    }
   ],
   "source": [
    "conversion = (orders.groupby('group').agg({'transaction_id':'count'}).rename(columns={'transaction_id':'orders'}))\\\n",
    "                                     .join((visitors.groupby('group').agg({'visitors':'sum'}))).reset_index()\n",
    "conversion['conversion'] = conversion['orders'] / conversion['visitors']\n",
    "conversion"
   ]
  },
  {
   "cell_type": "markdown",
   "metadata": {},
   "source": [
    "Воспользуемся z-критерием Фишера.<br>\n",
    "Нулевая гипотеза: Конверсия в группе A равна конверсии в группе B<br>\n",
    "Альтернативная: Конверсия в группе A не равна конверсии в группе B"
   ]
  },
  {
   "cell_type": "code",
   "execution_count": 44,
   "metadata": {},
   "outputs": [
    {
     "name": "stdout",
     "output_type": "stream",
     "text": [
      "p-значение:  0.008396177528376304\n",
      "Прирост конверсии: 13.8%\n",
      "\n",
      "Отвергаем нулевую гипотезу.\n"
     ]
    }
   ],
   "source": [
    "alpha=0.05\n",
    "purchases = np.array(conversion['orders'])\n",
    "leads = np.array(conversion['visitors'])\n",
    "p1 = purchases[0] / leads[0]\n",
    "p2 = purchases[1] / leads[1]\n",
    "combined = (purchases[0] + purchases[1]) / (leads[0] + leads[1])\n",
    "difference = p1-p2\n",
    "z_value = difference / math.sqrt(combined * (1 - combined) * (1 / leads[0] + 1 / leads[1]))\n",
    "distr = st.norm(0,1)\n",
    "\n",
    "pvalue = stats.mannwhitneyu(sampleA, sampleB)[1]\n",
    "\n",
    "#fix_7\n",
    "print('p-значение: ', pvalue)\n",
    "print(\"Прирост конверсии: {:.1f}%\".format((sampleB.mean()/sampleA.mean()-1)*100))\n",
    "print('')\n",
    "if (pvalue < alpha):\n",
    "    print(\"Отвергаем нулевую гипотезу.\")\n",
    "else:\n",
    "    print(\"Не получилось отвергнуть нулевую гипотезу.\")"
   ]
  },
  {
   "cell_type": "markdown",
   "metadata": {},
   "source": [
    "Первое число — p-value = 0.008, что меньше 0.05. Значит, отвергаем нулевую гипотезу о том, что статистически значимые различия в конверсии между группами отсутствуют. Также относительный выигрыш группы B к группе А равен 13.8%. "
   ]
  },
  {
   "cell_type": "markdown",
   "metadata": {},
   "source": [
    "<a id='step_62'></a>\n",
    "### 6.2 Статистическая значимость различий в среднем чеке заказа между группами "
   ]
  },
  {
   "cell_type": "markdown",
   "metadata": {},
   "source": [
    "Воспользуемся критерием Манна-Уитни.<br>\n",
    "Нулевая гипотеза: Средний чек A не превышает средний чека группы B<br>\n",
    "Альтернативная: Средний чек A превышает средний чека группы B"
   ]
  },
  {
   "cell_type": "code",
   "execution_count": 34,
   "metadata": {},
   "outputs": [
    {
     "name": "stdout",
     "output_type": "stream",
     "text": [
      "p-значение:  0.3646454927716229\n",
      "Прирост конверсии: 25.9%\n",
      "\n",
      "Не получилось отвергнуть нулевую гипотезу: вывод о различии сделать нельзя.\n"
     ]
    }
   ],
   "source": [
    "#fix_7\n",
    "pvalue = stats.mannwhitneyu(orders[orders['group']=='A']['revenue'], orders[orders['group']=='B']['revenue'])[1]\n",
    "\n",
    "print('p-значение: ', pvalue)\n",
    "print(\"Прирост конверсии: {:.1f}%\".format(\n",
    "    (orders[orders['group']=='B']['revenue'].mean()/orders[orders['group']=='A']['revenue'].mean()-1)*100))\n",
    "print()\n",
    "if (pvalue < alpha):\n",
    "    print(\"Отвергаем нулевую гипотезу: разница статистически значима.\")\n",
    "else:\n",
    "    print(\"Не получилось отвергнуть нулевую гипотезу: вывод о различии сделать нельзя.\")"
   ]
  },
  {
   "cell_type": "markdown",
   "metadata": {},
   "source": [
    "P-value значительно больше 0.05. Значит, причин отвергать нулевую гипотезу и считать, что в среднем чеке есть различия, нет. Средний чек группы B выше среднего чека группы А на 25.9%."
   ]
  },
  {
   "cell_type": "markdown",
   "metadata": {},
   "source": [
    "<a id='step_63'></a>\n",
    "### 6.3 Статистическая значимость различий в конверсии между «очищенными» группами "
   ]
  },
  {
   "cell_type": "code",
   "execution_count": 58,
   "metadata": {},
   "outputs": [
    {
     "name": "stdout",
     "output_type": "stream",
     "text": [
      "1099    148427295 \n",
      "949     887908475 \n",
      "744     888512513 \n",
      "1103    1164614297\n",
      "1136    1307669133\n",
      "Name: visitor_id, dtype: int64\n",
      "(15,)\n"
     ]
    }
   ],
   "source": [
    "#Отфильтровал данные из расчётов 99-го перцентиля.\n",
    "usersWithManyOrders = pd.concat([ordersByUsersA[ordersByUsersA['orders'] > 4]['visitor_id'],\n",
    "                                 ordersByUsersB[ordersByUsersB['orders'] > 4]['visitor_id']], axis = 0)\n",
    "usersWithExpensiveOrders = orders[orders['revenue'] > 58233]['visitor_id']\n",
    "abnormalUsers = pd.concat([usersWithManyOrders, usersWithExpensiveOrders], axis = 0).drop_duplicates().sort_values()\n",
    "print(abnormalUsers.head(5))\n",
    "print(abnormalUsers.shape) "
   ]
  },
  {
   "cell_type": "markdown",
   "metadata": {},
   "source": [
    "Отсеяно 15 выбросов."
   ]
  },
  {
   "cell_type": "code",
   "execution_count": 97,
   "metadata": {},
   "outputs": [],
   "source": [
    "orders_temp = orders[~orders['visitor_id'].isin(abnormalUsers)]\n",
    "conversion_clear = (orders_temp.groupby('group').agg({'transaction_id':'count'}).rename(columns={'transaction_id':'orders'}))\\\n",
    "                                                .join((visitors.groupby('group').agg({'visitors':'sum'}))).reset_index()"
   ]
  },
  {
   "cell_type": "markdown",
   "metadata": {},
   "source": [
    "Воспользуемся z-критерием Фишера.<br>\n",
    "Нулевая гипотеза: Конверсия в группе A равна конверсии в группе B<br>\n",
    "Альтернативная: Конверсия в группе A не равна конверсии в группе B"
   ]
  },
  {
   "cell_type": "code",
   "execution_count": 101,
   "metadata": {},
   "outputs": [
    {
     "name": "stdout",
     "output_type": "stream",
     "text": [
      "p-значение:  0.007190067792654007\n",
      "Прирост конверсии: 15.3%\n",
      "\n",
      "Отвергаем нулевую гипотезу.\n"
     ]
    }
   ],
   "source": [
    "purchases = np.array(conversion_clear['orders'])\n",
    "leads = np.array(conversion_clear['visitors'])\n",
    "\n",
    "p1 = purchases[0] / leads[0]\n",
    "p2 = purchases[1] / leads[1]\n",
    "\n",
    "combined = (purchases[0] + purchases[1]) / (leads[0] + leads[1])\n",
    "difference = p1-p2\n",
    "z_value = difference / math.sqrt(combined * (1 - combined) * (1 / leads[0] + 1 / leads[1]))\n",
    "distr = st.norm(0,1)\n",
    "\n",
    "p_value = (1 - distr.cdf(abs(z_value))) * 2\n",
    "#fix_7\n",
    "print('p-значение: ', pvalue)\n",
    "print(\"Прирост конверсии: {:.1f}%\".format(\n",
    "    ((sampleBFiltered.mean()/sampleAFiltered.mean()-1))*100))\n",
    "print()\n",
    "if (pvalue < alpha):\n",
    "    print(\"Отвергаем нулевую гипотезу.\")\n",
    "else:\n",
    "    print(\"Не получилось отвергнуть нулевую гипотезу.\")"
   ]
  },
  {
   "cell_type": "markdown",
   "metadata": {},
   "source": [
    "Результаты конверсии почти не изменились. P-value меньше 0.05, отвергаем нулевую гипотезу. Разница между сегментами увеличилась с 14.6% до 15.3%"
   ]
  },
  {
   "cell_type": "markdown",
   "metadata": {},
   "source": [
    "<a id='step_64'></a>\n",
    "### 6.4 Статистическая значимость различий в среднем чеке заказа между группами "
   ]
  },
  {
   "cell_type": "markdown",
   "metadata": {},
   "source": [
    "Воспользуемся критерием Манна-Уитни.<br>\n",
    "Нулевая гипотеза: Средний чек A не превышает средний чека группы B<br>\n",
    "Альтернативная: Средний чек A превышает средний чека группы B"
   ]
  },
  {
   "cell_type": "code",
   "execution_count": 102,
   "metadata": {},
   "outputs": [
    {
     "name": "stdout",
     "output_type": "stream",
     "text": [
      "p-значение:  0.42545630956909697\n",
      "Прирост конверсии: -0.005748871952734214\n",
      "\n",
      "Не получилось отвергнуть нулевую гипотезу: вывод о различии сделать нельзя.\n"
     ]
    }
   ],
   "source": [
    "#fix_7\n",
    "pvalue = stats.mannwhitneyu(\n",
    "    orders[np.logical_and(\n",
    "        orders['group']=='A',\n",
    "        np.logical_not(orders['visitor_id'].isin(abnormalUsers)))]['revenue'],\n",
    "    orders[np.logical_and(\n",
    "        orders['group']=='B',\n",
    "        np.logical_not(orders['visitor_id'].isin(abnormalUsers)))]['revenue'])[1]\n",
    "    \n",
    "print('p-значение: ', pvalue)\n",
    "print(\"Прирост конверсии: {:}\".format(\n",
    "    orders[np.logical_and(\n",
    "        orders['group']=='B',np.logical_not(orders['visitor_id'].isin(abnormalUsers)))]['revenue'].mean()/\n",
    "    orders[np.logical_and(\n",
    "        orders['group']=='A',\n",
    "        np.logical_not(orders['visitor_id'].isin(abnormalUsers)))]['revenue'].mean() - 1)) \n",
    "print()\n",
    "if (pvalue < alpha):\n",
    "    print(\"Отвергаем нулевую гипотезу: разница статистически значима.\")\n",
    "else:\n",
    "    print(\"Не получилось отвергнуть нулевую гипотезу: вывод о различии сделать нельзя.\")"
   ]
  },
  {
   "cell_type": "markdown",
   "metadata": {},
   "source": [
    "P-value увеличился, статистически значимых различий по конверсии после фильтрации аномалий нет. Однако прилично изменился средний чек группы B, который стал ниже группы А с разницей ~26% до фильтрации."
   ]
  },
  {
   "cell_type": "markdown",
   "metadata": {},
   "source": [
    "### Вывод\n",
    "* Нет статистически значимого различия по конверсии как между группами сырых данных, так и между группами после фильтрации аномалий.\n",
    "* По сырым данным нет статистически значимого различия по среднему чеку между группами ни до ни после фильтрации аномалий.\n",
    "* Результаты различия конверсии группы B лучше группы A и имеют тенденцию к росту.\n",
    "* Результаты различия среднего чека группы B ухудшились, группа А в незначительном выигрыше. Тем не менее вывод сделать нельзя."
   ]
  },
  {
   "cell_type": "markdown",
   "metadata": {},
   "source": [
    "<a id='step_7'></a>\n",
    "## Общий вывод"
   ]
  },
  {
   "cell_type": "markdown",
   "metadata": {},
   "source": [
    "#### Приоритизация гипотез\n",
    "Состав топ-5 гипотез по обоим фреймворкам (ICE и RICE) получился одинаковым. В приоритете лучше использовать RICE, так как он учитывает охват пользователей:\n",
    "    1. Добавить форму подписки на все основные страницы, чтобы собрать базу клиентов для email-рассылок \n",
    "    2. Добавить блоки рекомендаций товаров на сайт интернет магазина, чтобы повысить конверсию и средний чек заказа \n",
    "    3. Добавить два новых канала привлечения трафика, что позволит привлекать на 30% больше пользователей\n",
    "    4. Показать на главной странице баннеры с актуальными акциями и распродажами, чтобы увеличить конверсию\n",
    "    5. Запустить акцию, дающую скидку на товар в день рождения\n",
    "\n",
    "#### A/B-тест\n",
    "Результаты не однозначны. У группы Б есть перспектива победить, но данных, чтобы утверждать это мало. Поэтому тест нужно продолжить, пока не соберем больше наблюдений."
   ]
  }
 ],
 "metadata": {
  "kernelspec": {
   "display_name": "Python 3",
   "language": "python",
   "name": "python3"
  },
  "language_info": {
   "codemirror_mode": {
    "name": "ipython",
    "version": 3
   },
   "file_extension": ".py",
   "mimetype": "text/x-python",
   "name": "python",
   "nbconvert_exporter": "python",
   "pygments_lexer": "ipython3",
   "version": "3.7.6"
  }
 },
 "nbformat": 4,
 "nbformat_minor": 2
}
